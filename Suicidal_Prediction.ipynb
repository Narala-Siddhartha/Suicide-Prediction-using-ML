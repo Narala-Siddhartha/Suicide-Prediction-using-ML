{
 "cells": [
  {
   "cell_type": "code",
   "execution_count": 2,
   "id": "9xPdlghpzCBQ",
   "metadata": {
    "id": "9xPdlghpzCBQ"
   },
   "outputs": [],
   "source": [
    "import numpy as np\n",
    "import pandas as pd\n",
    "import matplotlib.pyplot as plt\n",
    "import seaborn as sns\n",
    "from sklearn.feature_extraction.text import CountVectorizer\n",
    "count=CountVectorizer()"
   ]
  },
  {
   "cell_type": "code",
   "execution_count": 3,
   "id": "mjnyG7LIzKNC",
   "metadata": {
    "id": "mjnyG7LIzKNC"
   },
   "outputs": [],
   "source": [
    "#from google.colab import drive\n",
    "#drive.mount('/gdrive')"
   ]
  },
  {
   "cell_type": "code",
   "execution_count": 4,
   "id": "Uc6qX_ZwzCBU",
   "metadata": {
    "id": "Uc6qX_ZwzCBU"
   },
   "outputs": [
    {
     "data": {
      "text/html": [
       "<div>\n",
       "<style scoped>\n",
       "    .dataframe tbody tr th:only-of-type {\n",
       "        vertical-align: middle;\n",
       "    }\n",
       "\n",
       "    .dataframe tbody tr th {\n",
       "        vertical-align: top;\n",
       "    }\n",
       "\n",
       "    .dataframe thead th {\n",
       "        text-align: right;\n",
       "    }\n",
       "</style>\n",
       "<table border=\"1\" class=\"dataframe\">\n",
       "  <thead>\n",
       "    <tr style=\"text-align: right;\">\n",
       "      <th></th>\n",
       "      <th>Unnamed: 0.1</th>\n",
       "      <th>Unnamed: 0</th>\n",
       "      <th>text</th>\n",
       "      <th>class</th>\n",
       "    </tr>\n",
       "  </thead>\n",
       "  <tbody>\n",
       "    <tr>\n",
       "      <th>0</th>\n",
       "      <td>0</td>\n",
       "      <td>2</td>\n",
       "      <td>Ex Wife Threatening SuicideRecently I left my ...</td>\n",
       "      <td>suicide</td>\n",
       "    </tr>\n",
       "    <tr>\n",
       "      <th>1</th>\n",
       "      <td>1</td>\n",
       "      <td>3</td>\n",
       "      <td>Am I weird I don't get affected by compliments...</td>\n",
       "      <td>non-suicide</td>\n",
       "    </tr>\n",
       "    <tr>\n",
       "      <th>2</th>\n",
       "      <td>2</td>\n",
       "      <td>4</td>\n",
       "      <td>Finally 2020 is almost over... So I can never ...</td>\n",
       "      <td>non-suicide</td>\n",
       "    </tr>\n",
       "    <tr>\n",
       "      <th>3</th>\n",
       "      <td>3</td>\n",
       "      <td>8</td>\n",
       "      <td>i need helpjust help me im crying so hard</td>\n",
       "      <td>suicide</td>\n",
       "    </tr>\n",
       "    <tr>\n",
       "      <th>4</th>\n",
       "      <td>4</td>\n",
       "      <td>9</td>\n",
       "      <td>I’m so lostHello, my name is Adam (16) and I’v...</td>\n",
       "      <td>suicide</td>\n",
       "    </tr>\n",
       "    <tr>\n",
       "      <th>...</th>\n",
       "      <td>...</td>\n",
       "      <td>...</td>\n",
       "      <td>...</td>\n",
       "      <td>...</td>\n",
       "    </tr>\n",
       "    <tr>\n",
       "      <th>34095</th>\n",
       "      <td>34095</td>\n",
       "      <td>51166</td>\n",
       "      <td>Stuck in a 5 year rutI'm really typing this to...</td>\n",
       "      <td>suicide</td>\n",
       "    </tr>\n",
       "    <tr>\n",
       "      <th>34096</th>\n",
       "      <td>34096</td>\n",
       "      <td>51167</td>\n",
       "      <td>gib notifications comment nowwwww</td>\n",
       "      <td>non-suicide</td>\n",
       "    </tr>\n",
       "    <tr>\n",
       "      <th>34097</th>\n",
       "      <td>34097</td>\n",
       "      <td>51168</td>\n",
       "      <td>Climate change is driving me to suicideI was g...</td>\n",
       "      <td>suicide</td>\n",
       "    </tr>\n",
       "    <tr>\n",
       "      <th>34098</th>\n",
       "      <td>34098</td>\n",
       "      <td>51169</td>\n",
       "      <td>Ask me, a M15 Norwegian anything I'm bored af,...</td>\n",
       "      <td>non-suicide</td>\n",
       "    </tr>\n",
       "    <tr>\n",
       "      <th>34099</th>\n",
       "      <td>34099</td>\n",
       "      <td>51170</td>\n",
       "      <td>Real conversation I just had Me: *sends a pict...</td>\n",
       "      <td>non-suicide</td>\n",
       "    </tr>\n",
       "  </tbody>\n",
       "</table>\n",
       "<p>34100 rows × 4 columns</p>\n",
       "</div>"
      ],
      "text/plain": [
       "       Unnamed: 0.1  Unnamed: 0  \\\n",
       "0                 0           2   \n",
       "1                 1           3   \n",
       "2                 2           4   \n",
       "3                 3           8   \n",
       "4                 4           9   \n",
       "...             ...         ...   \n",
       "34095         34095       51166   \n",
       "34096         34096       51167   \n",
       "34097         34097       51168   \n",
       "34098         34098       51169   \n",
       "34099         34099       51170   \n",
       "\n",
       "                                                    text        class  \n",
       "0      Ex Wife Threatening SuicideRecently I left my ...      suicide  \n",
       "1      Am I weird I don't get affected by compliments...  non-suicide  \n",
       "2      Finally 2020 is almost over... So I can never ...  non-suicide  \n",
       "3              i need helpjust help me im crying so hard      suicide  \n",
       "4      I’m so lostHello, my name is Adam (16) and I’v...      suicide  \n",
       "...                                                  ...          ...  \n",
       "34095  Stuck in a 5 year rutI'm really typing this to...      suicide  \n",
       "34096                  gib notifications comment nowwwww  non-suicide  \n",
       "34097  Climate change is driving me to suicideI was g...      suicide  \n",
       "34098  Ask me, a M15 Norwegian anything I'm bored af,...  non-suicide  \n",
       "34099  Real conversation I just had Me: *sends a pict...  non-suicide  \n",
       "\n",
       "[34100 rows x 4 columns]"
      ]
     },
     "execution_count": 4,
     "metadata": {},
     "output_type": "execute_result"
    }
   ],
   "source": [
    "data = pd.read_csv(\"Suicide_Detection.csv\")\n",
    "data\n"
   ]
  },
  {
   "cell_type": "code",
   "execution_count": 5,
   "id": "FYnZ1zIHzCBY",
   "metadata": {
    "id": "FYnZ1zIHzCBY"
   },
   "outputs": [
    {
     "data": {
      "text/plain": [
       "0            suicide\n",
       "1        non-suicide\n",
       "2        non-suicide\n",
       "3            suicide\n",
       "4            suicide\n",
       "            ...     \n",
       "34095        suicide\n",
       "34096    non-suicide\n",
       "34097        suicide\n",
       "34098    non-suicide\n",
       "34099    non-suicide\n",
       "Name: class, Length: 34100, dtype: object"
      ]
     },
     "execution_count": 5,
     "metadata": {},
     "output_type": "execute_result"
    }
   ],
   "source": [
    "data[\"class\"]"
   ]
  },
  {
   "cell_type": "code",
   "execution_count": 6,
   "id": "iF5syQCRcjoF",
   "metadata": {
    "id": "iF5syQCRcjoF"
   },
   "outputs": [
    {
     "data": {
      "text/plain": [
       "numpy.int64"
      ]
     },
     "execution_count": 6,
     "metadata": {},
     "output_type": "execute_result"
    }
   ],
   "source": [
    "type(data[\"Unnamed: 0\"][3])"
   ]
  },
  {
   "cell_type": "code",
   "execution_count": 7,
   "id": "RDtQu6jfzCBa",
   "metadata": {
    "id": "RDtQu6jfzCBa"
   },
   "outputs": [],
   "source": [
    "text = data['text']\n",
    "label = data['class']"
   ]
  },
  {
   "cell_type": "code",
   "execution_count": 8,
   "id": "X88nrYIBzCBb",
   "metadata": {
    "id": "X88nrYIBzCBb"
   },
   "outputs": [
    {
     "data": {
      "text/plain": [
       "\"Ex Wife Threatening SuicideRecently I left my wife for good because she has cheated on me twice and lied to me so much that I have decided to refuse to go back to her. As of a few days ago, she began threatening suicide. I have tirelessly spent these paat few days talking her out of it and she keeps hesitating because she wants to believe I'll come back. I know a lot of people will threaten this in order to get their way, but what happens if she really does? What do I do and how am I supposed to handle her death on my hands? I still love my wife but I cannot deal with getting cheated on again and constantly feeling insecure. I'm worried today may be the day she does it and I hope so much it doesn't happen.\""
      ]
     },
     "execution_count": 8,
     "metadata": {},
     "output_type": "execute_result"
    }
   ],
   "source": [
    "text[0]"
   ]
  },
  {
   "cell_type": "code",
   "execution_count": 9,
   "id": "G6p80laPzCBd",
   "metadata": {
    "id": "G6p80laPzCBd"
   },
   "outputs": [],
   "source": [
    "classes_list = [\"non-suicide\", \"suicide\"]\n",
    "label_index = data['class'].apply(classes_list.index)\n",
    "label = np.asarray(label_index)"
   ]
  },
  {
   "cell_type": "code",
   "execution_count": 10,
   "id": "XSwwPYZMzCBe",
   "metadata": {
    "id": "XSwwPYZMzCBe"
   },
   "outputs": [],
   "source": [
    "data['label'] = label"
   ]
  },
  {
   "cell_type": "code",
   "execution_count": 11,
   "id": "aYTzfqaLzzuU",
   "metadata": {
    "id": "aYTzfqaLzzuU"
   },
   "outputs": [
    {
     "data": {
      "text/html": [
       "<div>\n",
       "<style scoped>\n",
       "    .dataframe tbody tr th:only-of-type {\n",
       "        vertical-align: middle;\n",
       "    }\n",
       "\n",
       "    .dataframe tbody tr th {\n",
       "        vertical-align: top;\n",
       "    }\n",
       "\n",
       "    .dataframe thead th {\n",
       "        text-align: right;\n",
       "    }\n",
       "</style>\n",
       "<table border=\"1\" class=\"dataframe\">\n",
       "  <thead>\n",
       "    <tr style=\"text-align: right;\">\n",
       "      <th></th>\n",
       "      <th>Unnamed: 0.1</th>\n",
       "      <th>Unnamed: 0</th>\n",
       "      <th>text</th>\n",
       "      <th>class</th>\n",
       "      <th>label</th>\n",
       "    </tr>\n",
       "  </thead>\n",
       "  <tbody>\n",
       "    <tr>\n",
       "      <th>0</th>\n",
       "      <td>0</td>\n",
       "      <td>2</td>\n",
       "      <td>Ex Wife Threatening SuicideRecently I left my ...</td>\n",
       "      <td>suicide</td>\n",
       "      <td>1</td>\n",
       "    </tr>\n",
       "    <tr>\n",
       "      <th>1</th>\n",
       "      <td>1</td>\n",
       "      <td>3</td>\n",
       "      <td>Am I weird I don't get affected by compliments...</td>\n",
       "      <td>non-suicide</td>\n",
       "      <td>0</td>\n",
       "    </tr>\n",
       "    <tr>\n",
       "      <th>2</th>\n",
       "      <td>2</td>\n",
       "      <td>4</td>\n",
       "      <td>Finally 2020 is almost over... So I can never ...</td>\n",
       "      <td>non-suicide</td>\n",
       "      <td>0</td>\n",
       "    </tr>\n",
       "    <tr>\n",
       "      <th>3</th>\n",
       "      <td>3</td>\n",
       "      <td>8</td>\n",
       "      <td>i need helpjust help me im crying so hard</td>\n",
       "      <td>suicide</td>\n",
       "      <td>1</td>\n",
       "    </tr>\n",
       "    <tr>\n",
       "      <th>4</th>\n",
       "      <td>4</td>\n",
       "      <td>9</td>\n",
       "      <td>I’m so lostHello, my name is Adam (16) and I’v...</td>\n",
       "      <td>suicide</td>\n",
       "      <td>1</td>\n",
       "    </tr>\n",
       "    <tr>\n",
       "      <th>...</th>\n",
       "      <td>...</td>\n",
       "      <td>...</td>\n",
       "      <td>...</td>\n",
       "      <td>...</td>\n",
       "      <td>...</td>\n",
       "    </tr>\n",
       "    <tr>\n",
       "      <th>34095</th>\n",
       "      <td>34095</td>\n",
       "      <td>51166</td>\n",
       "      <td>Stuck in a 5 year rutI'm really typing this to...</td>\n",
       "      <td>suicide</td>\n",
       "      <td>1</td>\n",
       "    </tr>\n",
       "    <tr>\n",
       "      <th>34096</th>\n",
       "      <td>34096</td>\n",
       "      <td>51167</td>\n",
       "      <td>gib notifications comment nowwwww</td>\n",
       "      <td>non-suicide</td>\n",
       "      <td>0</td>\n",
       "    </tr>\n",
       "    <tr>\n",
       "      <th>34097</th>\n",
       "      <td>34097</td>\n",
       "      <td>51168</td>\n",
       "      <td>Climate change is driving me to suicideI was g...</td>\n",
       "      <td>suicide</td>\n",
       "      <td>1</td>\n",
       "    </tr>\n",
       "    <tr>\n",
       "      <th>34098</th>\n",
       "      <td>34098</td>\n",
       "      <td>51169</td>\n",
       "      <td>Ask me, a M15 Norwegian anything I'm bored af,...</td>\n",
       "      <td>non-suicide</td>\n",
       "      <td>0</td>\n",
       "    </tr>\n",
       "    <tr>\n",
       "      <th>34099</th>\n",
       "      <td>34099</td>\n",
       "      <td>51170</td>\n",
       "      <td>Real conversation I just had Me: *sends a pict...</td>\n",
       "      <td>non-suicide</td>\n",
       "      <td>0</td>\n",
       "    </tr>\n",
       "  </tbody>\n",
       "</table>\n",
       "<p>34100 rows × 5 columns</p>\n",
       "</div>"
      ],
      "text/plain": [
       "       Unnamed: 0.1  Unnamed: 0  \\\n",
       "0                 0           2   \n",
       "1                 1           3   \n",
       "2                 2           4   \n",
       "3                 3           8   \n",
       "4                 4           9   \n",
       "...             ...         ...   \n",
       "34095         34095       51166   \n",
       "34096         34096       51167   \n",
       "34097         34097       51168   \n",
       "34098         34098       51169   \n",
       "34099         34099       51170   \n",
       "\n",
       "                                                    text        class  label  \n",
       "0      Ex Wife Threatening SuicideRecently I left my ...      suicide      1  \n",
       "1      Am I weird I don't get affected by compliments...  non-suicide      0  \n",
       "2      Finally 2020 is almost over... So I can never ...  non-suicide      0  \n",
       "3              i need helpjust help me im crying so hard      suicide      1  \n",
       "4      I’m so lostHello, my name is Adam (16) and I’v...      suicide      1  \n",
       "...                                                  ...          ...    ...  \n",
       "34095  Stuck in a 5 year rutI'm really typing this to...      suicide      1  \n",
       "34096                  gib notifications comment nowwwww  non-suicide      0  \n",
       "34097  Climate change is driving me to suicideI was g...      suicide      1  \n",
       "34098  Ask me, a M15 Norwegian anything I'm bored af,...  non-suicide      0  \n",
       "34099  Real conversation I just had Me: *sends a pict...  non-suicide      0  \n",
       "\n",
       "[34100 rows x 5 columns]"
      ]
     },
     "execution_count": 11,
     "metadata": {},
     "output_type": "execute_result"
    }
   ],
   "source": [
    "data"
   ]
  },
  {
   "cell_type": "code",
   "execution_count": 12,
   "id": "dTWN7m0iz5St",
   "metadata": {
    "id": "dTWN7m0iz5St"
   },
   "outputs": [
    {
     "data": {
      "text/html": [
       "<div>\n",
       "<style scoped>\n",
       "    .dataframe tbody tr th:only-of-type {\n",
       "        vertical-align: middle;\n",
       "    }\n",
       "\n",
       "    .dataframe tbody tr th {\n",
       "        vertical-align: top;\n",
       "    }\n",
       "\n",
       "    .dataframe thead th {\n",
       "        text-align: right;\n",
       "    }\n",
       "</style>\n",
       "<table border=\"1\" class=\"dataframe\">\n",
       "  <thead>\n",
       "    <tr style=\"text-align: right;\">\n",
       "      <th></th>\n",
       "      <th>Unnamed: 0.1</th>\n",
       "      <th>Unnamed: 0</th>\n",
       "      <th>text</th>\n",
       "      <th>label</th>\n",
       "    </tr>\n",
       "  </thead>\n",
       "  <tbody>\n",
       "    <tr>\n",
       "      <th>0</th>\n",
       "      <td>0</td>\n",
       "      <td>2</td>\n",
       "      <td>Ex Wife Threatening SuicideRecently I left my ...</td>\n",
       "      <td>1</td>\n",
       "    </tr>\n",
       "    <tr>\n",
       "      <th>1</th>\n",
       "      <td>1</td>\n",
       "      <td>3</td>\n",
       "      <td>Am I weird I don't get affected by compliments...</td>\n",
       "      <td>0</td>\n",
       "    </tr>\n",
       "    <tr>\n",
       "      <th>2</th>\n",
       "      <td>2</td>\n",
       "      <td>4</td>\n",
       "      <td>Finally 2020 is almost over... So I can never ...</td>\n",
       "      <td>0</td>\n",
       "    </tr>\n",
       "    <tr>\n",
       "      <th>3</th>\n",
       "      <td>3</td>\n",
       "      <td>8</td>\n",
       "      <td>i need helpjust help me im crying so hard</td>\n",
       "      <td>1</td>\n",
       "    </tr>\n",
       "    <tr>\n",
       "      <th>4</th>\n",
       "      <td>4</td>\n",
       "      <td>9</td>\n",
       "      <td>I’m so lostHello, my name is Adam (16) and I’v...</td>\n",
       "      <td>1</td>\n",
       "    </tr>\n",
       "    <tr>\n",
       "      <th>...</th>\n",
       "      <td>...</td>\n",
       "      <td>...</td>\n",
       "      <td>...</td>\n",
       "      <td>...</td>\n",
       "    </tr>\n",
       "    <tr>\n",
       "      <th>34095</th>\n",
       "      <td>34095</td>\n",
       "      <td>51166</td>\n",
       "      <td>Stuck in a 5 year rutI'm really typing this to...</td>\n",
       "      <td>1</td>\n",
       "    </tr>\n",
       "    <tr>\n",
       "      <th>34096</th>\n",
       "      <td>34096</td>\n",
       "      <td>51167</td>\n",
       "      <td>gib notifications comment nowwwww</td>\n",
       "      <td>0</td>\n",
       "    </tr>\n",
       "    <tr>\n",
       "      <th>34097</th>\n",
       "      <td>34097</td>\n",
       "      <td>51168</td>\n",
       "      <td>Climate change is driving me to suicideI was g...</td>\n",
       "      <td>1</td>\n",
       "    </tr>\n",
       "    <tr>\n",
       "      <th>34098</th>\n",
       "      <td>34098</td>\n",
       "      <td>51169</td>\n",
       "      <td>Ask me, a M15 Norwegian anything I'm bored af,...</td>\n",
       "      <td>0</td>\n",
       "    </tr>\n",
       "    <tr>\n",
       "      <th>34099</th>\n",
       "      <td>34099</td>\n",
       "      <td>51170</td>\n",
       "      <td>Real conversation I just had Me: *sends a pict...</td>\n",
       "      <td>0</td>\n",
       "    </tr>\n",
       "  </tbody>\n",
       "</table>\n",
       "<p>34100 rows × 4 columns</p>\n",
       "</div>"
      ],
      "text/plain": [
       "       Unnamed: 0.1  Unnamed: 0  \\\n",
       "0                 0           2   \n",
       "1                 1           3   \n",
       "2                 2           4   \n",
       "3                 3           8   \n",
       "4                 4           9   \n",
       "...             ...         ...   \n",
       "34095         34095       51166   \n",
       "34096         34096       51167   \n",
       "34097         34097       51168   \n",
       "34098         34098       51169   \n",
       "34099         34099       51170   \n",
       "\n",
       "                                                    text  label  \n",
       "0      Ex Wife Threatening SuicideRecently I left my ...      1  \n",
       "1      Am I weird I don't get affected by compliments...      0  \n",
       "2      Finally 2020 is almost over... So I can never ...      0  \n",
       "3              i need helpjust help me im crying so hard      1  \n",
       "4      I’m so lostHello, my name is Adam (16) and I’v...      1  \n",
       "...                                                  ...    ...  \n",
       "34095  Stuck in a 5 year rutI'm really typing this to...      1  \n",
       "34096                  gib notifications comment nowwwww      0  \n",
       "34097  Climate change is driving me to suicideI was g...      1  \n",
       "34098  Ask me, a M15 Norwegian anything I'm bored af,...      0  \n",
       "34099  Real conversation I just had Me: *sends a pict...      0  \n",
       "\n",
       "[34100 rows x 4 columns]"
      ]
     },
     "execution_count": 12,
     "metadata": {},
     "output_type": "execute_result"
    }
   ],
   "source": [
    "data.drop(\"class\", axis = 1, inplace  =True)\n",
    "data"
   ]
  },
  {
   "cell_type": "code",
   "execution_count": 13,
   "id": "Ini9TlaUz5WZ",
   "metadata": {
    "id": "Ini9TlaUz5WZ"
   },
   "outputs": [
    {
     "data": {
      "text/plain": [
       "label\n",
       "0    17172\n",
       "1    16928\n",
       "Name: count, dtype: int64"
      ]
     },
     "execution_count": 13,
     "metadata": {},
     "output_type": "execute_result"
    }
   ],
   "source": [
    "data[\"label\"].value_counts()"
   ]
  },
  {
   "cell_type": "code",
   "execution_count": 14,
   "id": "m82iY__KzCBe",
   "metadata": {
    "id": "m82iY__KzCBe"
   },
   "outputs": [
    {
     "data": {
      "image/png": "[encoded data removed]",
      "text/plain": [
       "<Figure size 500x500 with 1 Axes>"
      ]
     },
     "metadata": {},
     "output_type": "display_data"
    }
   ],
   "source": [
    "fig=plt.figure(figsize=(5,5))\n",
    "colors=[\"skyblue\",'pink']\n",
    "pos=data[data['label']==1]\n",
    "neg=data[data['label']==0]\n",
    "ck=[pos['label'].count(),neg['label'].count()]\n",
    "legpie=plt.pie(ck,labels=[\"suicide\",\"non-suicide\"],\n",
    "                 autopct ='%1.1f%%', \n",
    "                 shadow = True,\n",
    "                 colors = colors,\n",
    "                 startangle = 45,\n",
    "                 explode=(0, 0.1))"
   ]
  },
  {
   "cell_type": "code",
   "execution_count": 15,
   "id": "EOooLg8FzCBh",
   "metadata": {
    "id": "EOooLg8FzCBh"
   },
   "outputs": [],
   "source": [
    "import re\n",
    "def preprocessor(text):\n",
    "             text=re.sub('<[^>]*>','',text)\n",
    "             emojis=re.findall('(?::|;|=)(?:-)?(?:\\)|\\(|D|P)',text)\n",
    "             text=re.sub('[\\W]+',' ',text.lower()) +\\\n",
    "                ' '.join(emojis).replace('-','')\n",
    "             return text   \n",
    "data['text']=data['text'].apply(preprocessor)"
   ]
  },
  {
   "cell_type": "code",
   "execution_count": 16,
   "id": "rAuW7uigzCBi",
   "metadata": {
    "id": "rAuW7uigzCBi"
   },
   "outputs": [
    {
     "data": {
      "text/html": [
       "<div>\n",
       "<style scoped>\n",
       "    .dataframe tbody tr th:only-of-type {\n",
       "        vertical-align: middle;\n",
       "    }\n",
       "\n",
       "    .dataframe tbody tr th {\n",
       "        vertical-align: top;\n",
       "    }\n",
       "\n",
       "    .dataframe thead th {\n",
       "        text-align: right;\n",
       "    }\n",
       "</style>\n",
       "<table border=\"1\" class=\"dataframe\">\n",
       "  <thead>\n",
       "    <tr style=\"text-align: right;\">\n",
       "      <th></th>\n",
       "      <th>Unnamed: 0.1</th>\n",
       "      <th>Unnamed: 0</th>\n",
       "      <th>text</th>\n",
       "      <th>label</th>\n",
       "    </tr>\n",
       "  </thead>\n",
       "  <tbody>\n",
       "    <tr>\n",
       "      <th>0</th>\n",
       "      <td>0</td>\n",
       "      <td>2</td>\n",
       "      <td>ex wife threatening suiciderecently i left my ...</td>\n",
       "      <td>1</td>\n",
       "    </tr>\n",
       "    <tr>\n",
       "      <th>1</th>\n",
       "      <td>1</td>\n",
       "      <td>3</td>\n",
       "      <td>am i weird i don t get affected by compliments...</td>\n",
       "      <td>0</td>\n",
       "    </tr>\n",
       "    <tr>\n",
       "      <th>2</th>\n",
       "      <td>2</td>\n",
       "      <td>4</td>\n",
       "      <td>finally 2020 is almost over so i can never hea...</td>\n",
       "      <td>0</td>\n",
       "    </tr>\n",
       "    <tr>\n",
       "      <th>3</th>\n",
       "      <td>3</td>\n",
       "      <td>8</td>\n",
       "      <td>i need helpjust help me im crying so hard</td>\n",
       "      <td>1</td>\n",
       "    </tr>\n",
       "    <tr>\n",
       "      <th>4</th>\n",
       "      <td>4</td>\n",
       "      <td>9</td>\n",
       "      <td>i m so losthello my name is adam 16 and i ve b...</td>\n",
       "      <td>1</td>\n",
       "    </tr>\n",
       "    <tr>\n",
       "      <th>...</th>\n",
       "      <td>...</td>\n",
       "      <td>...</td>\n",
       "      <td>...</td>\n",
       "      <td>...</td>\n",
       "    </tr>\n",
       "    <tr>\n",
       "      <th>34095</th>\n",
       "      <td>34095</td>\n",
       "      <td>51166</td>\n",
       "      <td>stuck in a 5 year ruti m really typing this to...</td>\n",
       "      <td>1</td>\n",
       "    </tr>\n",
       "    <tr>\n",
       "      <th>34096</th>\n",
       "      <td>34096</td>\n",
       "      <td>51167</td>\n",
       "      <td>gib notifications comment nowwwww</td>\n",
       "      <td>0</td>\n",
       "    </tr>\n",
       "    <tr>\n",
       "      <th>34097</th>\n",
       "      <td>34097</td>\n",
       "      <td>51168</td>\n",
       "      <td>climate change is driving me to suicidei was g...</td>\n",
       "      <td>1</td>\n",
       "    </tr>\n",
       "    <tr>\n",
       "      <th>34098</th>\n",
       "      <td>34098</td>\n",
       "      <td>51169</td>\n",
       "      <td>ask me a m15 norwegian anything i m bored af i...</td>\n",
       "      <td>0</td>\n",
       "    </tr>\n",
       "    <tr>\n",
       "      <th>34099</th>\n",
       "      <td>34099</td>\n",
       "      <td>51170</td>\n",
       "      <td>real conversation i just had me sends a pictur...</td>\n",
       "      <td>0</td>\n",
       "    </tr>\n",
       "  </tbody>\n",
       "</table>\n",
       "<p>34100 rows × 4 columns</p>\n",
       "</div>"
      ],
      "text/plain": [
       "       Unnamed: 0.1  Unnamed: 0  \\\n",
       "0                 0           2   \n",
       "1                 1           3   \n",
       "2                 2           4   \n",
       "3                 3           8   \n",
       "4                 4           9   \n",
       "...             ...         ...   \n",
       "34095         34095       51166   \n",
       "34096         34096       51167   \n",
       "34097         34097       51168   \n",
       "34098         34098       51169   \n",
       "34099         34099       51170   \n",
       "\n",
       "                                                    text  label  \n",
       "0      ex wife threatening suiciderecently i left my ...      1  \n",
       "1      am i weird i don t get affected by compliments...      0  \n",
       "2      finally 2020 is almost over so i can never hea...      0  \n",
       "3              i need helpjust help me im crying so hard      1  \n",
       "4      i m so losthello my name is adam 16 and i ve b...      1  \n",
       "...                                                  ...    ...  \n",
       "34095  stuck in a 5 year ruti m really typing this to...      1  \n",
       "34096                  gib notifications comment nowwwww      0  \n",
       "34097  climate change is driving me to suicidei was g...      1  \n",
       "34098  ask me a m15 norwegian anything i m bored af i...      0  \n",
       "34099  real conversation i just had me sends a pictur...      0  \n",
       "\n",
       "[34100 rows x 4 columns]"
      ]
     },
     "execution_count": 16,
     "metadata": {},
     "output_type": "execute_result"
    }
   ],
   "source": [
    "data"
   ]
  },
  {
   "cell_type": "code",
   "execution_count": 17,
   "id": "QopuMpD3aFbz",
   "metadata": {
    "id": "QopuMpD3aFbz"
   },
   "outputs": [],
   "source": [
    "data = data[:10000]"
   ]
  },
  {
   "cell_type": "code",
   "execution_count": 18,
   "id": "uGtC3tgBaKWq",
   "metadata": {
    "id": "uGtC3tgBaKWq"
   },
   "outputs": [
    {
     "data": {
      "text/plain": [
       "label\n",
       "0    5085\n",
       "1    4915\n",
       "Name: count, dtype: int64"
      ]
     },
     "execution_count": 18,
     "metadata": {},
     "output_type": "execute_result"
    }
   ],
   "source": [
    "data[\"label\"].value_counts()"
   ]
  },
  {
   "cell_type": "code",
   "execution_count": 19,
   "id": "RHGGNpn3zCBj",
   "metadata": {
    "id": "RHGGNpn3zCBj"
   },
   "outputs": [],
   "source": [
    "import warnings\n",
    "warnings.filterwarnings('ignore')"
   ]
  },
  {
   "cell_type": "code",
   "execution_count": 20,
   "id": "Uv14hW6PzCBl",
   "metadata": {
    "id": "Uv14hW6PzCBl"
   },
   "outputs": [],
   "source": [
    "# for i in range(len(data['text'])):\n",
    "#     data['text'][i]  =data['text'][i].lower()"
   ]
  },
  {
   "cell_type": "code",
   "execution_count": 21,
   "id": "KRmOL8Hqwrt2",
   "metadata": {
    "id": "KRmOL8Hqwrt2"
   },
   "outputs": [
    {
     "data": {
      "text/html": [
       "<div>\n",
       "<style scoped>\n",
       "    .dataframe tbody tr th:only-of-type {\n",
       "        vertical-align: middle;\n",
       "    }\n",
       "\n",
       "    .dataframe tbody tr th {\n",
       "        vertical-align: top;\n",
       "    }\n",
       "\n",
       "    .dataframe thead th {\n",
       "        text-align: right;\n",
       "    }\n",
       "</style>\n",
       "<table border=\"1\" class=\"dataframe\">\n",
       "  <thead>\n",
       "    <tr style=\"text-align: right;\">\n",
       "      <th></th>\n",
       "      <th>Unnamed: 0.1</th>\n",
       "      <th>Unnamed: 0</th>\n",
       "      <th>text</th>\n",
       "      <th>label</th>\n",
       "    </tr>\n",
       "  </thead>\n",
       "  <tbody>\n",
       "    <tr>\n",
       "      <th>0</th>\n",
       "      <td>0</td>\n",
       "      <td>2</td>\n",
       "      <td>ex wife threatening suiciderecently i left my ...</td>\n",
       "      <td>1</td>\n",
       "    </tr>\n",
       "    <tr>\n",
       "      <th>1</th>\n",
       "      <td>1</td>\n",
       "      <td>3</td>\n",
       "      <td>am i weird i don t get affected by compliments...</td>\n",
       "      <td>0</td>\n",
       "    </tr>\n",
       "    <tr>\n",
       "      <th>2</th>\n",
       "      <td>2</td>\n",
       "      <td>4</td>\n",
       "      <td>finally 2020 is almost over so i can never hea...</td>\n",
       "      <td>0</td>\n",
       "    </tr>\n",
       "    <tr>\n",
       "      <th>3</th>\n",
       "      <td>3</td>\n",
       "      <td>8</td>\n",
       "      <td>i need helpjust help me im crying so hard</td>\n",
       "      <td>1</td>\n",
       "    </tr>\n",
       "    <tr>\n",
       "      <th>4</th>\n",
       "      <td>4</td>\n",
       "      <td>9</td>\n",
       "      <td>i m so losthello my name is adam 16 and i ve b...</td>\n",
       "      <td>1</td>\n",
       "    </tr>\n",
       "    <tr>\n",
       "      <th>...</th>\n",
       "      <td>...</td>\n",
       "      <td>...</td>\n",
       "      <td>...</td>\n",
       "      <td>...</td>\n",
       "    </tr>\n",
       "    <tr>\n",
       "      <th>9995</th>\n",
       "      <td>9995</td>\n",
       "      <td>15026</td>\n",
       "      <td>help me plz i got my first reward aka the gold...</td>\n",
       "      <td>0</td>\n",
       "    </tr>\n",
       "    <tr>\n",
       "      <th>9996</th>\n",
       "      <td>9996</td>\n",
       "      <td>15028</td>\n",
       "      <td>anyone wanna chat im a bit bored right now jus...</td>\n",
       "      <td>0</td>\n",
       "    </tr>\n",
       "    <tr>\n",
       "      <th>9997</th>\n",
       "      <td>9997</td>\n",
       "      <td>15029</td>\n",
       "      <td>i m on a bridgei don t want to die but right n...</td>\n",
       "      <td>1</td>\n",
       "    </tr>\n",
       "    <tr>\n",
       "      <th>9998</th>\n",
       "      <td>9998</td>\n",
       "      <td>15030</td>\n",
       "      <td>this is serious my dad just turned gay anyone ...</td>\n",
       "      <td>0</td>\n",
       "    </tr>\n",
       "    <tr>\n",
       "      <th>9999</th>\n",
       "      <td>9999</td>\n",
       "      <td>15032</td>\n",
       "      <td>i can t any more so uhh idk how this works i f...</td>\n",
       "      <td>1</td>\n",
       "    </tr>\n",
       "  </tbody>\n",
       "</table>\n",
       "<p>10000 rows × 4 columns</p>\n",
       "</div>"
      ],
      "text/plain": [
       "      Unnamed: 0.1  Unnamed: 0  \\\n",
       "0                0           2   \n",
       "1                1           3   \n",
       "2                2           4   \n",
       "3                3           8   \n",
       "4                4           9   \n",
       "...            ...         ...   \n",
       "9995          9995       15026   \n",
       "9996          9996       15028   \n",
       "9997          9997       15029   \n",
       "9998          9998       15030   \n",
       "9999          9999       15032   \n",
       "\n",
       "                                                   text  label  \n",
       "0     ex wife threatening suiciderecently i left my ...      1  \n",
       "1     am i weird i don t get affected by compliments...      0  \n",
       "2     finally 2020 is almost over so i can never hea...      0  \n",
       "3             i need helpjust help me im crying so hard      1  \n",
       "4     i m so losthello my name is adam 16 and i ve b...      1  \n",
       "...                                                 ...    ...  \n",
       "9995  help me plz i got my first reward aka the gold...      0  \n",
       "9996  anyone wanna chat im a bit bored right now jus...      0  \n",
       "9997  i m on a bridgei don t want to die but right n...      1  \n",
       "9998  this is serious my dad just turned gay anyone ...      0  \n",
       "9999  i can t any more so uhh idk how this works i f...      1  \n",
       "\n",
       "[10000 rows x 4 columns]"
      ]
     },
     "execution_count": 21,
     "metadata": {},
     "output_type": "execute_result"
    }
   ],
   "source": [
    "data"
   ]
  },
  {
   "cell_type": "code",
   "execution_count": 22,
   "id": "jiUeTiEqzCBm",
   "metadata": {
    "id": "jiUeTiEqzCBm"
   },
   "outputs": [],
   "source": [
    "from nltk.stem.porter import PorterStemmer\n",
    "porter=PorterStemmer()\n",
    "def tokenizer_porter(text):\n",
    "    return [porter.stem(word) for word in text.split()]"
   ]
  },
  {
   "cell_type": "code",
   "execution_count": 23,
   "id": "pTYCqLxzzCBn",
   "metadata": {
    "id": "pTYCqLxzzCBn"
   },
   "outputs": [],
   "source": [
    "for i in range(len(data['text'])):\n",
    "    data['text'][i]  =  np.array(tokenizer_porter(data['text'][i]))"
   ]
  },
  {
   "cell_type": "code",
   "execution_count": 24,
   "id": "EyAUehPpsN58",
   "metadata": {
    "id": "EyAUehPpsN58"
   },
   "outputs": [
    {
     "data": {
      "text/html": [
       "<div>\n",
       "<style scoped>\n",
       "    .dataframe tbody tr th:only-of-type {\n",
       "        vertical-align: middle;\n",
       "    }\n",
       "\n",
       "    .dataframe tbody tr th {\n",
       "        vertical-align: top;\n",
       "    }\n",
       "\n",
       "    .dataframe thead th {\n",
       "        text-align: right;\n",
       "    }\n",
       "</style>\n",
       "<table border=\"1\" class=\"dataframe\">\n",
       "  <thead>\n",
       "    <tr style=\"text-align: right;\">\n",
       "      <th></th>\n",
       "      <th>Unnamed: 0.1</th>\n",
       "      <th>Unnamed: 0</th>\n",
       "      <th>text</th>\n",
       "      <th>label</th>\n",
       "    </tr>\n",
       "  </thead>\n",
       "  <tbody>\n",
       "    <tr>\n",
       "      <th>0</th>\n",
       "      <td>0</td>\n",
       "      <td>2</td>\n",
       "      <td>[ex, wife, threaten, suiciderec, i, left, my, ...</td>\n",
       "      <td>1</td>\n",
       "    </tr>\n",
       "    <tr>\n",
       "      <th>1</th>\n",
       "      <td>1</td>\n",
       "      <td>3</td>\n",
       "      <td>[am, i, weird, i, don, t, get, affect, by, com...</td>\n",
       "      <td>0</td>\n",
       "    </tr>\n",
       "    <tr>\n",
       "      <th>2</th>\n",
       "      <td>2</td>\n",
       "      <td>4</td>\n",
       "      <td>[final, 2020, is, almost, over, so, i, can, ne...</td>\n",
       "      <td>0</td>\n",
       "    </tr>\n",
       "    <tr>\n",
       "      <th>3</th>\n",
       "      <td>3</td>\n",
       "      <td>8</td>\n",
       "      <td>[i, need, helpjust, help, me, im, cri, so, hard]</td>\n",
       "      <td>1</td>\n",
       "    </tr>\n",
       "    <tr>\n",
       "      <th>4</th>\n",
       "      <td>4</td>\n",
       "      <td>9</td>\n",
       "      <td>[i, m, so, losthello, my, name, is, adam, 16, ...</td>\n",
       "      <td>1</td>\n",
       "    </tr>\n",
       "    <tr>\n",
       "      <th>...</th>\n",
       "      <td>...</td>\n",
       "      <td>...</td>\n",
       "      <td>...</td>\n",
       "      <td>...</td>\n",
       "    </tr>\n",
       "    <tr>\n",
       "      <th>9995</th>\n",
       "      <td>9995</td>\n",
       "      <td>15026</td>\n",
       "      <td>[help, me, plz, i, got, my, first, reward, aka...</td>\n",
       "      <td>0</td>\n",
       "    </tr>\n",
       "    <tr>\n",
       "      <th>9996</th>\n",
       "      <td>9996</td>\n",
       "      <td>15028</td>\n",
       "      <td>[anyon, wanna, chat, im, a, bit, bore, right, ...</td>\n",
       "      <td>0</td>\n",
       "    </tr>\n",
       "    <tr>\n",
       "      <th>9997</th>\n",
       "      <td>9997</td>\n",
       "      <td>15029</td>\n",
       "      <td>[i, m, on, a, bridgei, don, t, want, to, die, ...</td>\n",
       "      <td>1</td>\n",
       "    </tr>\n",
       "    <tr>\n",
       "      <th>9998</th>\n",
       "      <td>9998</td>\n",
       "      <td>15030</td>\n",
       "      <td>[thi, is, seriou, my, dad, just, turn, gay, an...</td>\n",
       "      <td>0</td>\n",
       "    </tr>\n",
       "    <tr>\n",
       "      <th>9999</th>\n",
       "      <td>9999</td>\n",
       "      <td>15032</td>\n",
       "      <td>[i, can, t, ani, more, so, uhh, idk, how, thi,...</td>\n",
       "      <td>1</td>\n",
       "    </tr>\n",
       "  </tbody>\n",
       "</table>\n",
       "<p>10000 rows × 4 columns</p>\n",
       "</div>"
      ],
      "text/plain": [
       "      Unnamed: 0.1  Unnamed: 0  \\\n",
       "0                0           2   \n",
       "1                1           3   \n",
       "2                2           4   \n",
       "3                3           8   \n",
       "4                4           9   \n",
       "...            ...         ...   \n",
       "9995          9995       15026   \n",
       "9996          9996       15028   \n",
       "9997          9997       15029   \n",
       "9998          9998       15030   \n",
       "9999          9999       15032   \n",
       "\n",
       "                                                   text  label  \n",
       "0     [ex, wife, threaten, suiciderec, i, left, my, ...      1  \n",
       "1     [am, i, weird, i, don, t, get, affect, by, com...      0  \n",
       "2     [final, 2020, is, almost, over, so, i, can, ne...      0  \n",
       "3      [i, need, helpjust, help, me, im, cri, so, hard]      1  \n",
       "4     [i, m, so, losthello, my, name, is, adam, 16, ...      1  \n",
       "...                                                 ...    ...  \n",
       "9995  [help, me, plz, i, got, my, first, reward, aka...      0  \n",
       "9996  [anyon, wanna, chat, im, a, bit, bore, right, ...      0  \n",
       "9997  [i, m, on, a, bridgei, don, t, want, to, die, ...      1  \n",
       "9998  [thi, is, seriou, my, dad, just, turn, gay, an...      0  \n",
       "9999  [i, can, t, ani, more, so, uhh, idk, how, thi,...      1  \n",
       "\n",
       "[10000 rows x 4 columns]"
      ]
     },
     "execution_count": 24,
     "metadata": {},
     "output_type": "execute_result"
    }
   ],
   "source": [
    "data"
   ]
  },
  {
   "cell_type": "code",
   "execution_count": 25,
   "id": "qNPTF9X6sVDR",
   "metadata": {
    "id": "qNPTF9X6sVDR"
   },
   "outputs": [
    {
     "data": {
      "text/plain": [
       "array(['ex', 'wife', 'threaten', 'suiciderec', 'i', 'left', 'my', 'wife',\n",
       "       'for', 'good', 'becaus', 'she', 'ha', 'cheat', 'on', 'me', 'twice',\n",
       "       'and', 'lie', 'to', 'me', 'so', 'much', 'that', 'i', 'have',\n",
       "       'decid', 'to', 'refus', 'to', 'go', 'back', 'to', 'her', 'as',\n",
       "       'of', 'a', 'few', 'day', 'ago', 'she', 'began', 'threaten',\n",
       "       'suicid', 'i', 'have', 'tirelessli', 'spent', 'these', 'paat',\n",
       "       'few', 'day', 'talk', 'her', 'out', 'of', 'it', 'and', 'she',\n",
       "       'keep', 'hesit', 'becaus', 'she', 'want', 'to', 'believ', 'i',\n",
       "       'll', 'come', 'back', 'i', 'know', 'a', 'lot', 'of', 'peopl',\n",
       "       'will', 'threaten', 'thi', 'in', 'order', 'to', 'get', 'their',\n",
       "       'way', 'but', 'what', 'happen', 'if', 'she', 'realli', 'doe',\n",
       "       'what', 'do', 'i', 'do', 'and', 'how', 'am', 'i', 'suppos', 'to',\n",
       "       'handl', 'her', 'death', 'on', 'my', 'hand', 'i', 'still', 'love',\n",
       "       'my', 'wife', 'but', 'i', 'cannot', 'deal', 'with', 'get', 'cheat',\n",
       "       'on', 'again', 'and', 'constantli', 'feel', 'insecur', 'i', 'm',\n",
       "       'worri', 'today', 'may', 'be', 'the', 'day', 'she', 'doe', 'it',\n",
       "       'and', 'i', 'hope', 'so', 'much', 'it', 'doesn', 't', 'happen'],\n",
       "      dtype='<U10')"
      ]
     },
     "execution_count": 25,
     "metadata": {},
     "output_type": "execute_result"
    }
   ],
   "source": [
    "data[\"text\"][0]"
   ]
  },
  {
   "cell_type": "code",
   "execution_count": 26,
   "id": "VbcFa-jctOla",
   "metadata": {
    "id": "VbcFa-jctOla"
   },
   "outputs": [
    {
     "name": "stdout",
     "output_type": "stream",
     "text": [
      "['ex' 'wife' 'threaten' 'suiciderec' 'i' 'left' 'my' 'wife' 'for' 'good'\n",
      " 'becaus' 'she' 'ha' 'cheat' 'on' 'me' 'twice' 'and' 'lie' 'to' 'me' 'so'\n",
      " 'much' 'that' 'i' 'have' 'decid' 'to' 'refus' 'to' 'go' 'back' 'to' 'her'\n",
      " 'as' 'of' 'a' 'few' 'day' 'ago' 'she' 'began' 'threaten' 'suicid' 'i'\n",
      " 'have' 'tirelessli' 'spent' 'these' 'paat' 'few' 'day' 'talk' 'her' 'out'\n",
      " 'of' 'it' 'and' 'she' 'keep' 'hesit' 'becaus' 'she' 'want' 'to' 'believ'\n",
      " 'i' 'll' 'come' 'back' 'i' 'know' 'a' 'lot' 'of' 'peopl' 'will'\n",
      " 'threaten' 'thi' 'in' 'order' 'to' 'get' 'their' 'way' 'but' 'what'\n",
      " 'happen' 'if' 'she' 'realli' 'doe' 'what' 'do' 'i' 'do' 'and' 'how' 'am'\n",
      " 'i' 'suppos' 'to' 'handl' 'her' 'death' 'on' 'my' 'hand' 'i' 'still'\n",
      " 'love' 'my' 'wife' 'but' 'i' 'cannot' 'deal' 'with' 'get' 'cheat' 'on'\n",
      " 'again' 'and' 'constantli' 'feel' 'insecur' 'i' 'm' 'worri' 'today' 'may'\n",
      " 'be' 'the' 'day' 'she' 'doe' 'it' 'and' 'i' 'hope' 'so' 'much' 'it'\n",
      " 'doesn' 't' 'happen']\n"
     ]
    }
   ],
   "source": [
    "print(data[\"text\"][0])"
   ]
  },
  {
   "cell_type": "code",
   "execution_count": 27,
   "id": "PjKBkG3SqO8l",
   "metadata": {
    "id": "PjKBkG3SqO8l"
   },
   "outputs": [],
   "source": [
    "#data.to_csv(\"filtered_data.csv\")"
   ]
  },
  {
   "cell_type": "code",
   "execution_count": 28,
   "id": "3JfecV9Uq8Yh",
   "metadata": {
    "id": "3JfecV9Uq8Yh"
   },
   "outputs": [],
   "source": [
    "#data = pd.read_csv(\"/gdrive/filtered_data.csv\")"
   ]
  },
  {
   "cell_type": "code",
   "execution_count": 29,
   "id": "w_CBEAZYzCBp",
   "metadata": {
    "id": "w_CBEAZYzCBp"
   },
   "outputs": [
    {
     "name": "stderr",
     "output_type": "stream",
     "text": [
      "[nltk_data] Downloading package stopwords to\n",
      "[nltk_data]     C:\\Users\\siddu\\AppData\\Roaming\\nltk_data...\n",
      "[nltk_data]   Unzipping corpora\\stopwords.zip.\n"
     ]
    },
    {
     "data": {
      "text/plain": [
       "True"
      ]
     },
     "execution_count": 29,
     "metadata": {},
     "output_type": "execute_result"
    }
   ],
   "source": [
    "import nltk\n",
    "nltk.download('stopwords')"
   ]
  },
  {
   "cell_type": "code",
   "execution_count": 30,
   "id": "PZr0mjSAzCBr",
   "metadata": {
    "id": "PZr0mjSAzCBr"
   },
   "outputs": [
    {
     "name": "stderr",
     "output_type": "stream",
     "text": [
      "[nltk_data] Downloading package stopwords to\n",
      "[nltk_data]     C:\\Users\\siddu\\AppData\\Roaming\\nltk_data...\n",
      "[nltk_data]   Package stopwords is already up-to-date!\n"
     ]
    },
    {
     "data": {
      "text/plain": [
       "True"
      ]
     },
     "execution_count": 30,
     "metadata": {},
     "output_type": "execute_result"
    }
   ],
   "source": [
    "from nltk.corpus import stopwords\n",
    "stops=stopwords.words('english')\n",
    "nltk.download('stopwords')"
   ]
  },
  {
   "cell_type": "code",
   "execution_count": 34,
   "id": "M1mUSDlezCBs",
   "metadata": {
    "id": "M1mUSDlezCBs"
   },
   "outputs": [],
   "source": [
    "def remove_stopwords(lower_tokens):\n",
    "  filtered_words=[]\n",
    "  for s in lower_tokens:\n",
    "    temp=[]\n",
    "    for token in s:\n",
    "      if token not in stops:\n",
    "        temp.append(token)\n",
    "    filtered_words.append(temp)\n",
    "  return filtered_words\n"
   ]
  },
  {
   "cell_type": "code",
   "execution_count": 35,
   "id": "Ws8wzFzXzCBs",
   "metadata": {
    "id": "Ws8wzFzXzCBs"
   },
   "outputs": [
    {
     "ename": "TypeError",
     "evalue": "iteration over a 0-d array",
     "output_type": "error",
     "traceback": [
      "\u001b[1;31m---------------------------------------------------------------------------\u001b[0m",
      "\u001b[1;31mTypeError\u001b[0m                                 Traceback (most recent call last)",
      "Cell \u001b[1;32mIn[35], line 1\u001b[0m\n\u001b[1;32m----> 1\u001b[0m t_list \u001b[38;5;241m=\u001b[39m \u001b[43mremove_stopwords\u001b[49m\u001b[43m(\u001b[49m\u001b[43mdata\u001b[49m\u001b[43m[\u001b[49m\u001b[38;5;124;43m'\u001b[39;49m\u001b[38;5;124;43mtext\u001b[39;49m\u001b[38;5;124;43m'\u001b[39;49m\u001b[43m]\u001b[49m\u001b[43m)\u001b[49m\n\u001b[0;32m      2\u001b[0m data[\u001b[38;5;124m'\u001b[39m\u001b[38;5;124mtext\u001b[39m\u001b[38;5;124m'\u001b[39m] \u001b[38;5;241m=\u001b[39m t_list\n",
      "Cell \u001b[1;32mIn[34], line 5\u001b[0m, in \u001b[0;36mremove_stopwords\u001b[1;34m(lower_tokens)\u001b[0m\n\u001b[0;32m      3\u001b[0m \u001b[38;5;28;01mfor\u001b[39;00m s \u001b[38;5;129;01min\u001b[39;00m lower_tokens:\n\u001b[0;32m      4\u001b[0m   temp\u001b[38;5;241m=\u001b[39m[]\n\u001b[1;32m----> 5\u001b[0m   \u001b[38;5;28;01mfor\u001b[39;00m token \u001b[38;5;129;01min\u001b[39;00m s:\n\u001b[0;32m      6\u001b[0m     \u001b[38;5;28;01mif\u001b[39;00m token \u001b[38;5;129;01mnot\u001b[39;00m \u001b[38;5;129;01min\u001b[39;00m stops:\n\u001b[0;32m      7\u001b[0m       temp\u001b[38;5;241m.\u001b[39mappend(token)\n",
      "\u001b[1;31mTypeError\u001b[0m: iteration over a 0-d array"
     ]
    }
   ],
   "source": [
    "t_list = remove_stopwords(data['text'])\n",
    "data['text'] = t_list"
   ]
  },
  {
   "cell_type": "code",
   "execution_count": null,
   "id": "nJ8BOEtyzCBt",
   "metadata": {
    "id": "nJ8BOEtyzCBt"
   },
   "outputs": [],
   "source": [
    "for i in range(len(data['text'])):\n",
    "    data['text'][i]  =  \" \".join(data['text'][i])"
   ]
  },
  {
   "cell_type": "code",
   "execution_count": null,
   "id": "_pbjRc8b-RJo",
   "metadata": {
    "id": "_pbjRc8b-RJo"
   },
   "outputs": [],
   "source": [
    "data"
   ]
  },
  {
   "cell_type": "code",
   "execution_count": 34,
   "id": "OtBpmr1lPj9K",
   "metadata": {
    "id": "OtBpmr1lPj9K"
   },
   "outputs": [
    {
     "data": {
      "text/plain": [
       "'ex wife threaten suiciderec left wife good becaus ha cheat twice lie much decid refus go back day ago began threaten suicid tirelessli spent paat day talk keep hesit becaus want believ come back know lot peopl threaten thi order get way happen realli doe suppos handl death hand still love wife cannot deal get cheat constantli feel insecur worri today may day doe hope much happen'"
      ]
     },
     "execution_count": 34,
     "metadata": {},
     "output_type": "execute_result"
    }
   ],
   "source": [
    "data[\"text\"][0]"
   ]
  },
  {
   "cell_type": "code",
   "execution_count": 35,
   "id": "mCJMenAy-RUP",
   "metadata": {
    "id": "mCJMenAy-RUP"
   },
   "outputs": [],
   "source": [
    "#data.to_csv(\"filtered1_data.csv\")\n",
    "#data = pd.read_csv(\"filtered1_data.csv\")"
   ]
  },
  {
   "cell_type": "code",
   "execution_count": 36,
   "id": "PD8qUvIxzCBt",
   "metadata": {
    "id": "PD8qUvIxzCBt"
   },
   "outputs": [],
   "source": [
    "from sklearn.feature_extraction.text import TfidfVectorizer\n",
    "vectorizer = TfidfVectorizer()\n",
    "y =data['label'].values\n",
    "tfidf = vectorizer.fit(data['text'])\n",
    "x = vectorizer.transform(data[\"text\"])"
   ]
  },
  {
   "cell_type": "code",
   "execution_count": 37,
   "id": "Qrs287xpgVPa",
   "metadata": {
    "id": "Qrs287xpgVPa"
   },
   "outputs": [
    {
     "data": {
      "text/plain": [
       "{'ex': 6752,\n",
       " 'wife': 19633,\n",
       " 'threaten': 17844,\n",
       " 'suiciderec': 17166,\n",
       " 'left': 10640,\n",
       " 'good': 8113,\n",
       " 'becaus': 2742,\n",
       " 'ha': 8407,\n",
       " 'cheat': 3911,\n",
       " 'twice': 18420,\n",
       " 'lie': 10735,\n",
       " 'much': 12042,\n",
       " 'decid': 5187,\n",
       " 'refus': 14789,\n",
       " 'go': 8044,\n",
       " 'back': 2502,\n",
       " 'day': 5090,\n",
       " 'ago': 1560,\n",
       " 'began': 2779,\n",
       " 'suicid': 17136,\n",
       " 'tirelessli': 17972,\n",
       " 'spent': 16602,\n",
       " 'paat': 13154,\n",
       " 'talk': 17439,\n",
       " 'keep': 10280,\n",
       " 'hesit': 8824,\n",
       " 'want': 19345,\n",
       " 'believ': 2810,\n",
       " 'come': 4338,\n",
       " 'know': 10408,\n",
       " 'lot': 11029,\n",
       " 'peopl': 13433,\n",
       " 'thi': 17746,\n",
       " 'order': 12939,\n",
       " 'get': 7935,\n",
       " 'way': 19396,\n",
       " 'happen': 8519,\n",
       " 'realli': 14646,\n",
       " 'doe': 5826,\n",
       " 'suppos': 17254,\n",
       " 'handl': 8502,\n",
       " 'death': 5154,\n",
       " 'hand': 8489,\n",
       " 'still': 16864,\n",
       " 'love': 11043,\n",
       " 'cannot': 3627,\n",
       " 'deal': 5143,\n",
       " 'constantli': 4525,\n",
       " 'feel': 7098,\n",
       " 'insecur': 9682,\n",
       " 'worri': 19810,\n",
       " 'today': 18026,\n",
       " 'may': 11380,\n",
       " 'hope': 9043,\n",
       " 'weird': 19476,\n",
       " 'affect': 1483,\n",
       " 'compliment': 4411,\n",
       " 'someon': 16435,\n",
       " 'irl': 9856,\n",
       " 'internet': 9765,\n",
       " 'stranger': 16936,\n",
       " 'final': 7226,\n",
       " '2020': 434,\n",
       " 'almost': 1735,\n",
       " 'never': 12361,\n",
       " 'hear': 8656,\n",
       " 'bad': 2529,\n",
       " 'year': 19974,\n",
       " 'ever': 6684,\n",
       " 'swear': 17320,\n",
       " 'fuck': 7653,\n",
       " 'god': 8053,\n",
       " 'annoy': 1927,\n",
       " 'need': 12289,\n",
       " 'helpjust': 8750,\n",
       " 'help': 8729,\n",
       " 'im': 9402,\n",
       " 'cri': 4796,\n",
       " 'hard': 8545,\n",
       " 'losthello': 11023,\n",
       " 'name': 12200,\n",
       " 'adam': 1396,\n",
       " '16': 237,\n",
       " 'struggl': 16996,\n",
       " 'afraid': 1504,\n",
       " 'past': 13303,\n",
       " 'thought': 17824,\n",
       " 'fear': 7072,\n",
       " 'anxieti': 1991,\n",
       " 'close': 4194,\n",
       " 'limit': 10808,\n",
       " 'quiet': 14446,\n",
       " 'long': 10969,\n",
       " 'scare': 15493,\n",
       " 'famili': 6986,\n",
       " 'lose': 11014,\n",
       " 'aunt': 2383,\n",
       " 'trigger': 18288,\n",
       " 'everyday': 6696,\n",
       " 'hopeless': 9046,\n",
       " 'lost': 11021,\n",
       " 'guilti': 8354,\n",
       " 'remors': 14892,\n",
       " 'thing': 17762,\n",
       " 'done': 5876,\n",
       " 'life': 10737,\n",
       " 'like': 10793,\n",
       " 'littl': 10871,\n",
       " 'experienc': 6840,\n",
       " 'onli': 12846,\n",
       " 'time': 17924,\n",
       " 'reveal': 15044,\n",
       " 'broke': 3348,\n",
       " 'saw': 15463,\n",
       " 'cut': 4949,\n",
       " 'watch': 19381,\n",
       " 'someth': 16445,\n",
       " 'portray': 13928,\n",
       " 'averag': 2422,\n",
       " 'made': 11163,\n",
       " 'absolut': 1287,\n",
       " 'dread': 6004,\n",
       " 'later': 10546,\n",
       " 'found': 7495,\n",
       " 'wa': 19287,\n",
       " 'attempt': 2351,\n",
       " 'survivor': 17285,\n",
       " 'od': 12719,\n",
       " 'overdos': 13063,\n",
       " 'pill': 13631,\n",
       " 'hang': 8507,\n",
       " 'blackout': 2996,\n",
       " 'went': 19501,\n",
       " 'noos': 12513,\n",
       " 'dure': 6122,\n",
       " 'first': 7265,\n",
       " 'therapi': 17722,\n",
       " 'diagnos': 5470,\n",
       " 'sever': 15779,\n",
       " 'depress': 5348,\n",
       " 'social': 16372,\n",
       " 'eat': 6230,\n",
       " 'disord': 5708,\n",
       " 'transfer': 18211,\n",
       " 'fucken': 7660,\n",
       " 'group': 8298,\n",
       " 'reason': 14660,\n",
       " 'anxiou': 1994,\n",
       " 'eventu': 6682,\n",
       " 'befor': 2773,\n",
       " 'last': 10535,\n",
       " 'session': 15762,\n",
       " 'show': 15959,\n",
       " 'result': 15011,\n",
       " 'daili': 5014,\n",
       " 'check': 3915,\n",
       " 'step': 16823,\n",
       " 'survey': 17283,\n",
       " 'mom': 11869,\n",
       " 'dad': 5003,\n",
       " 'find': 7233,\n",
       " 'put': 14371,\n",
       " 'horribl': 9069,\n",
       " 'amaz': 1793,\n",
       " 'describ': 5378,\n",
       " 'happiest': 8529,\n",
       " 'seen': 15669,\n",
       " 'sertalin': 15753,\n",
       " 'anti': 1958,\n",
       " 'sorri': 16500,\n",
       " 'forgot': 7460,\n",
       " 'finish': 7244,\n",
       " 'prescript': 14060,\n",
       " 'right': 15123,\n",
       " 'type': 18444,\n",
       " 'drug': 6061,\n",
       " 'took': 18105,\n",
       " 'recommend': 14711,\n",
       " 'schedul': 15517,\n",
       " 'week': 19450,\n",
       " 'stop': 16902,\n",
       " 'take': 17427,\n",
       " 'wors': 19812,\n",
       " 'damag': 5022,\n",
       " 'caus': 3761,\n",
       " 'even': 6678,\n",
       " 'everyth': 6710,\n",
       " 'relaps': 14827,\n",
       " 'develop': 5436,\n",
       " 'insomnia': 9698,\n",
       " 'worthless': 19828,\n",
       " 'question': 14433,\n",
       " 'whi': 19549,\n",
       " 'motiv': 11990,\n",
       " 'move': 12007,\n",
       " 'bed': 2752,\n",
       " 'ask': 2255,\n",
       " 'nearli': 12272,\n",
       " 'everi': 6687,\n",
       " 'night': 12419,\n",
       " 'break': 3282,\n",
       " 'everytim': 6723,\n",
       " 'pleas': 13759,\n",
       " 'anyon': 2028,\n",
       " 'might': 11650,\n",
       " 'drastic': 5999,\n",
       " 'shape': 15827,\n",
       " 'idk': 9337,\n",
       " 'anymor': 2003,\n",
       " 'honetli': 9015,\n",
       " 'idki': 9339,\n",
       " 'dont': 5898,\n",
       " 'noth': 12555,\n",
       " 'nowher': 12587,\n",
       " 'either': 6328,\n",
       " 'unbear': 18555,\n",
       " 'sad': 15346,\n",
       " 'ignor': 9367,\n",
       " 'friend': 7585,\n",
       " 'opitun': 12900,\n",
       " 'loos': 11004,\n",
       " 'girlfriend': 7980,\n",
       " 'hurt': 9216,\n",
       " 'everyon': 6704,\n",
       " 'anyth': 2032,\n",
       " 'behind': 2795,\n",
       " 'educ': 6274,\n",
       " 'alon': 1740,\n",
       " 'ive': 9957,\n",
       " 'enjoy': 6495,\n",
       " 'dream': 6005,\n",
       " 'care': 3664,\n",
       " 'complic': 4410,\n",
       " 'word': 19767,\n",
       " 'would': 19837,\n",
       " 'end': 6455,\n",
       " 'strong': 16986,\n",
       " 'brave': 3270,\n",
       " 'enough': 6504,\n",
       " 'weak': 19412,\n",
       " 'make': 11202,\n",
       " 'sadder': 15354,\n",
       " 'push': 14361,\n",
       " 'away': 2439,\n",
       " 'emot': 6415,\n",
       " 'empti': 6432,\n",
       " 'use': 18945,\n",
       " 'normal': 12522,\n",
       " 'understand': 18626,\n",
       " 'mention': 11530,\n",
       " 'got': 8153,\n",
       " 'die': 5502,\n",
       " 'havnt': 8604,\n",
       " 'brought': 3370,\n",
       " 'realis': 14636,\n",
       " 'cant': 3632,\n",
       " 'comprehend': 4419,\n",
       " 'mean': 11413,\n",
       " 'rambl': 14535,\n",
       " 'probabl': 14130,\n",
       " 'regret': 14802,\n",
       " 'post': 13943,\n",
       " 'ill': 9388,\n",
       " 'think': 17769,\n",
       " 'place': 13688,\n",
       " 'gun': 8370,\n",
       " 'head': 8627,\n",
       " 'encoag': 6448,\n",
       " 'see': 15659,\n",
       " 'instead': 9712,\n",
       " 'suviv': 17306,\n",
       " 'plu': 13787,\n",
       " 'meaningless': 11419,\n",
       " 'futur': 7754,\n",
       " 'bleak': 3023,\n",
       " 'could': 4658,\n",
       " 'cure': 4924,\n",
       " 'cancer': 3617,\n",
       " 'wast': 19377,\n",
       " 'warn': 19362,\n",
       " 'excus': 6788,\n",
       " 'self': 15683,\n",
       " 'inflict': 9620,\n",
       " 'burn': 3477,\n",
       " 'crisi': 4808,\n",
       " 'line': 10817,\n",
       " 'panic': 13216,\n",
       " 'attack': 2347,\n",
       " 'healthi': 8652,\n",
       " 'stupid': 17033,\n",
       " 'impuls': 9483,\n",
       " 'father': 7040,\n",
       " 'daughter': 5080,\n",
       " 'histori': 8910,\n",
       " 'togeth': 18049,\n",
       " '12': 119,\n",
       " 'worst': 19821,\n",
       " 'alway': 1784,\n",
       " 'ankl': 1917,\n",
       " 'wrist': 19869,\n",
       " 'easier': 6218,\n",
       " 'one': 12827,\n",
       " 'work': 19773,\n",
       " 'car': 3652,\n",
       " 'harm': 8562,\n",
       " 'without': 19707,\n",
       " 'usual': 18967,\n",
       " 'moment': 11872,\n",
       " 'say': 15465,\n",
       " 'touch': 18145,\n",
       " 'hood': 9029,\n",
       " 'hot': 9095,\n",
       " 'curv': 4939,\n",
       " 'pattern': 13334,\n",
       " 'forearm': 7436,\n",
       " 'side': 16007,\n",
       " 'inch': 9518,\n",
       " 'kind': 10346,\n",
       " 'wide': 19621,\n",
       " 'deep': 5219,\n",
       " 'explain': 6846,\n",
       " 'mayb': 11381,\n",
       " 'wire': 19680,\n",
       " 'smoosh': 16290,\n",
       " 'engin': 6488,\n",
       " 'fix': 7280,\n",
       " 'abl': 1259,\n",
       " 'tonight': 18087,\n",
       " 'quit': 14455,\n",
       " 'edgi': 6263,\n",
       " 'consciou': 4506,\n",
       " 'stand': 16760,\n",
       " 'draw': 6000,\n",
       " 'ye': 19968,\n",
       " 'play': 13739,\n",
       " 'guitar': 8361,\n",
       " 'honestli': 9012,\n",
       " 'stuck': 17008,\n",
       " 'tast': 17482,\n",
       " 'music': 12098,\n",
       " 'rock': 15187,\n",
       " 'alt': 1770,\n",
       " 'metal': 11565,\n",
       " '2000': 404,\n",
       " '90': 1062,\n",
       " 'uniqu': 18719,\n",
       " 'style': 17042,\n",
       " 'classmat': 4138,\n",
       " 'rap': 14567,\n",
       " 'edm': 6271,\n",
       " 'fit': 7274,\n",
       " 'copi': 4604,\n",
       " 'anoth': 1941,\n",
       " 'quirki': 14454,\n",
       " 'kid': 10325,\n",
       " 'cringey': 4802,\n",
       " 'phase': 13543,\n",
       " 'mani': 11255,\n",
       " 'look': 10986,\n",
       " 'grung': 8313,\n",
       " 'kinda': 10347,\n",
       " 'agre': 1569,\n",
       " 'continu': 4553,\n",
       " 'wore': 19770,\n",
       " 'cross': 4827,\n",
       " 'wallet': 19326,\n",
       " 'chain': 3841,\n",
       " 'tiktok': 17916,\n",
       " 'categori': 3741,\n",
       " 'confus': 4484,\n",
       " 'clout': 4207,\n",
       " 'chaser': 3896,\n",
       " 'boy': 3229,\n",
       " 'goddamn': 8060,\n",
       " 'hate': 8590,\n",
       " '20': 402,\n",
       " 'oldhello': 12802,\n",
       " 'old': 12796,\n",
       " 'bald': 2571,\n",
       " 'male': 11215,\n",
       " 'hairlin': 8457,\n",
       " 'trash': 18235,\n",
       " 'matter': 11371,\n",
       " 'huge': 9164,\n",
       " 'bipolar': 2948,\n",
       " 'crippl': 4804,\n",
       " 'cherri': 3946,\n",
       " 'top': 18117,\n",
       " 'wear': 19424,\n",
       " 'hat': 8587,\n",
       " '24': 504,\n",
       " 'room': 15229,\n",
       " 'pop': 13894,\n",
       " 'xanax': 19914,\n",
       " 'tri': 18276,\n",
       " 'numb': 12628,\n",
       " 'pain': 13176,\n",
       " 'bit': 2967,\n",
       " 'crash': 4756,\n",
       " 'onc': 12822,\n",
       " 'commun': 4376,\n",
       " 'relationship': 14834,\n",
       " 'popular': 13904,\n",
       " 'pass': 13292,\n",
       " 'dark': 5054,\n",
       " 'hole': 8954,\n",
       " 'arrest': 2201,\n",
       " 'numer': 12635,\n",
       " 'rehab': 14809,\n",
       " 'mental': 11526,\n",
       " 'hospit': 9085,\n",
       " 'kill': 10340,\n",
       " 'yet': 20008,\n",
       " 'brother': 3367,\n",
       " 'dead': 5125,\n",
       " 'point': 13834,\n",
       " 'support': 17251,\n",
       " 'aliv': 1693,\n",
       " 'guy': 8390,\n",
       " 'child': 3967,\n",
       " 'molestor': 11866,\n",
       " 'choos': 4023,\n",
       " 'rest': 14995,\n",
       " 'sleep': 16183,\n",
       " 'painkillersi': 13182,\n",
       " 'wait': 19310,\n",
       " 'imagin': 9410,\n",
       " 'neither': 12315,\n",
       " 'wrinkl': 19866,\n",
       " 'weight': 19472,\n",
       " 'gain': 7799,\n",
       " 'hair': 8451,\n",
       " 'loss': 11020,\n",
       " 'mess': 11553,\n",
       " 'teeth': 17551,\n",
       " 'bone': 3130,\n",
       " 'health': 8650,\n",
       " 'issu': 9897,\n",
       " 'menopaus': 11524,\n",
       " 'hormon': 9060,\n",
       " 'new': 12368,\n",
       " 'gener': 7889,\n",
       " 'amp': 1844,\n",
       " 'world': 19794,\n",
       " 'progress': 14181,\n",
       " 'useless': 18947,\n",
       " 'angri': 1897,\n",
       " 'piec': 13617,\n",
       " 'shit': 15892,\n",
       " 'total': 18141,\n",
       " 'depend': 5329,\n",
       " 'secretli': 15648,\n",
       " 'alreadi': 1761,\n",
       " 'happi': 8527,\n",
       " 'avoid': 2429,\n",
       " 'hit': 8912,\n",
       " 'train': 18194,\n",
       " 'countri': 4684,\n",
       " 'suffer': 17120,\n",
       " 'though': 17823,\n",
       " 'painless': 13183,\n",
       " 'method': 11584,\n",
       " 'continuedi': 4554,\n",
       " 'interest': 9757,\n",
       " 'inform': 9624,\n",
       " 'bunch': 3462,\n",
       " 'spit': 16626,\n",
       " 'person': 13494,\n",
       " 'obvious': 12696,\n",
       " 'least': 10622,\n",
       " 'troll': 18313,\n",
       " 'laugh': 10558,\n",
       " 'desir': 5388,\n",
       " 'termin': 17604,\n",
       " 'grow': 8301,\n",
       " 'stronger': 16988,\n",
       " 'bitter': 2978,\n",
       " 'main': 11193,\n",
       " 'goal': 8047,\n",
       " 'throughout': 17860,\n",
       " 'process': 14150,\n",
       " 'minim': 11706,\n",
       " 'subsequ': 17068,\n",
       " 'fallout': 6979,\n",
       " 'certainli': 3826,\n",
       " 'nice': 12398,\n",
       " 'patron': 13333,\n",
       " 'forum': 7489,\n",
       " 'respect': 14984,\n",
       " 'privaci': 14118,\n",
       " 'ridicul': 15114,\n",
       " 'expect': 6833,\n",
       " 'consid': 4514,\n",
       " 'sourc': 16527,\n",
       " 'suicidaledit': 17139,\n",
       " 'verizon': 19099,\n",
       " 'smart': 16258,\n",
       " 'app': 2087,\n",
       " 'porn': 13913,\n",
       " 'privat': 14119,\n",
       " 'wtf': 19889,\n",
       " 'featur': 7076,\n",
       " 'seem': 15666,\n",
       " 'young': 20049,\n",
       " 'transgend': 18214,\n",
       " 'sure': 17261,\n",
       " 'tell': 17564,\n",
       " 'actual': 1385,\n",
       " 'tran': 18204,\n",
       " 'overwhelm': 13126,\n",
       " 'wish': 19689,\n",
       " 'religi': 14861,\n",
       " 'accept': 1317,\n",
       " 'allevi': 1711,\n",
       " 'yesterday': 20004,\n",
       " 'bare': 2629,\n",
       " 'drew': 6022,\n",
       " 'blood': 3059,\n",
       " 'correctli': 4628,\n",
       " 'pursu': 14359,\n",
       " 'money': 11889,\n",
       " 'field': 7186,\n",
       " 'unless': 18734,\n",
       " 'becom': 2745,\n",
       " 'famou': 6991,\n",
       " 'current': 4931,\n",
       " 'serious': 15746,\n",
       " 'debat': 5165,\n",
       " 'longer': 10971,\n",
       " 'born': 3181,\n",
       " 'girl': 7979,\n",
       " 'well': 19490,\n",
       " 'screw': 15597,\n",
       " 'lock': 10927,\n",
       " 'school': 15531,\n",
       " 'toilet': 18055,\n",
       " 'edit': 6267,\n",
       " 'live': 10877,\n",
       " 'stori': 16916,\n",
       " 'assign': 2285,\n",
       " 'due': 6087,\n",
       " 'tomorrow': 18075,\n",
       " 'start': 16782,\n",
       " 'yeaput': 19973,\n",
       " 'knife': 10397,\n",
       " 'give': 7988,\n",
       " 'ani': 1910,\n",
       " 'free': 7543,\n",
       " 'fun': 7710,\n",
       " 'sister': 16096,\n",
       " 'goe': 8069,\n",
       " 'realiz': 14642,\n",
       " 'haha': 8423,\n",
       " 'goodby': 8115,\n",
       " '36': 671,\n",
       " '37': 677,\n",
       " 'disabl': 5614,\n",
       " 'ptsd': 14294,\n",
       " 'rheumatoid': 15082,\n",
       " 'arthriti': 2219,\n",
       " '400': 723,\n",
       " 'lb': 10598,\n",
       " 'sick': 15999,\n",
       " 'tire': 17958,\n",
       " 'singl': 16078,\n",
       " 'reject': 14822,\n",
       " 'monster': 11908,\n",
       " 'connect': 4497,\n",
       " 'companionship': 4382,\n",
       " 'loneli': 10960,\n",
       " 'taken': 17430,\n",
       " 'swallow': 17313,\n",
       " 'insid': 9688,\n",
       " 'consum': 4534,\n",
       " 'everywher': 6727,\n",
       " 'toward': 18164,\n",
       " 'remind': 14886,\n",
       " 'read': 14621,\n",
       " 'toxic': 18168,\n",
       " 'hous': 9113,\n",
       " 'best': 2859,\n",
       " 'cope': 4602,\n",
       " 'etc': 6639,\n",
       " 'rona': 15223,\n",
       " 'hahahaha': 8427,\n",
       " 'stay': 16809,\n",
       " 'home': 8970,\n",
       " 'forc': 7430,\n",
       " 'brrrrrrrrr': 3380,\n",
       " 'trap': 18230,\n",
       " 'voiddear': 19236,\n",
       " 'whoever': 19585,\n",
       " 'doubt': 5944,\n",
       " 'fall': 6976,\n",
       " 'criteria': 4815,\n",
       " 'void': 19235,\n",
       " 'monoton': 11904,\n",
       " 'task': 17481,\n",
       " 'forward': 7490,\n",
       " 'aspir': 2269,\n",
       " 'whatsoev': 19526,\n",
       " 'save': 15455,\n",
       " 'grace': 8172,\n",
       " 'felt': 7119,\n",
       " 'maren': 11297,\n",
       " 'idiot': 9336,\n",
       " 'sound': 16518,\n",
       " 'assur': 2296,\n",
       " 'kept': 10296,\n",
       " 'briefli': 3320,\n",
       " 'worth': 19826,\n",
       " 'okay': 12779,\n",
       " 'open': 12887,\n",
       " 'complet': 4402,\n",
       " 'eas': 6216,\n",
       " 'told': 18064,\n",
       " 'els': 6378,\n",
       " 'share': 15830,\n",
       " 'intim': 9783,\n",
       " 'dare': 5052,\n",
       " 'devis': 5444,\n",
       " 'crazi': 4762,\n",
       " 'scenario': 15513,\n",
       " 'us': 18941,\n",
       " 'apart': 2061,\n",
       " 'except': 6770,\n",
       " 'ty': 18439,\n",
       " 'problem': 14138,\n",
       " 'face': 6920,\n",
       " 'relat': 14831,\n",
       " 'starr': 16779,\n",
       " 'whenev': 19538,\n",
       " 'better': 2869,\n",
       " 'shine': 15884,\n",
       " 'star': 16771,\n",
       " 'pitch': 13664,\n",
       " 'black': 2989,\n",
       " 'sky': 16152,\n",
       " 'none': 12490,\n",
       " 'slowli': 16238,\n",
       " 'drift': 6029,\n",
       " 'exactli': 6755,\n",
       " 'involv': 9827,\n",
       " 'blame': 3007,\n",
       " 'intent': 9747,\n",
       " 'nonetheless': 12491,\n",
       " 'clingi': 4176,\n",
       " 'tendenc': 17586,\n",
       " 'said': 15369,\n",
       " 'exagger': 6757,\n",
       " 'interact': 9750,\n",
       " 'fair': 6963,\n",
       " 'around': 2195,\n",
       " 'extrem': 6888,\n",
       " 'destruct': 5408,\n",
       " 'spend': 16601,\n",
       " 'four': 7499,\n",
       " 'month': 11914,\n",
       " 'legitim': 10655,\n",
       " 'thank': 17657,\n",
       " 'stress': 16966,\n",
       " 'migrain': 11653,\n",
       " 'far': 7009,\n",
       " 'variou': 19039,\n",
       " 'beyond': 2883,\n",
       " 'control': 4567,\n",
       " 'hold': 8951,\n",
       " 'incred': 9547,\n",
       " 'recept': 14688,\n",
       " 'leav': 10626,\n",
       " 'detail': 5411,\n",
       " 'genuin': 7913,\n",
       " 'concern': 4443,\n",
       " 'dispel': 5716,\n",
       " 'attract': 2367,\n",
       " 'ten': 17583,\n",
       " 'prior': 14112,\n",
       " 'willingli': 19655,\n",
       " 'pictur': 13615,\n",
       " 'send': 15710,\n",
       " 'snapchat': 16317,\n",
       " 'hideou': 8851,\n",
       " 'hindsight': 8888,\n",
       " 'miss': 11772,\n",
       " 'return': 15039,\n",
       " 'fine': 7237,\n",
       " 'high': 8856,\n",
       " 'mainten': 11197,\n",
       " 'altogeth': 1777,\n",
       " 'sometim': 16451,\n",
       " 'abruptli': 1280,\n",
       " 'case': 3710,\n",
       " 'morn': 11956,\n",
       " 'whim': 19554,\n",
       " 'signific': 16031,\n",
       " 'also': 1769,\n",
       " 'drive': 6040,\n",
       " 'two': 18433,\n",
       " 'laid': 10492,\n",
       " 'stare': 16775,\n",
       " 'ceil': 3791,\n",
       " 'tear': 17518,\n",
       " 'gone': 8102,\n",
       " 'wrong': 19877,\n",
       " 'hid': 8848,\n",
       " 'outsid': 13027,\n",
       " 'view': 19155,\n",
       " 'contain': 4539,\n",
       " 'luck': 11090,\n",
       " 'reconnect': 14716,\n",
       " 'idea': 9319,\n",
       " 'onlin': 12847,\n",
       " 'facebook': 6921,\n",
       " 'lowest': 11062,\n",
       " 'sent': 15724,\n",
       " 'messag': 11554,\n",
       " 'prepar': 14052,\n",
       " 'wonder': 19744,\n",
       " 'convers': 4572,\n",
       " 'reminisc': 14887,\n",
       " 'childhood': 3972,\n",
       " 'rememb': 14882,\n",
       " 'subject': 17057,\n",
       " 'chang': 3859,\n",
       " 'partli': 13284,\n",
       " 'upset': 18909,\n",
       " 'breakup': 3291,\n",
       " 'especi': 6618,\n",
       " 'decad': 5173,\n",
       " 'joke': 10138,\n",
       " 'red': 14735,\n",
       " 'string': 16977,\n",
       " 'fate': 7037,\n",
       " 'dumb': 6098,\n",
       " 'fact': 6935,\n",
       " 'replic': 14927,\n",
       " 'awkward': 2453,\n",
       " 'freez': 7556,\n",
       " 'bore': 3172,\n",
       " 'subreddit': 17063,\n",
       " 'r4r': 14476,\n",
       " 'kikpal': 10337,\n",
       " 'friendship': 7592,\n",
       " 'fight': 7194,\n",
       " 'badger': 2535,\n",
       " 'game': 7812,\n",
       " 'throne': 17858,\n",
       " 'boyfriend': 3232,\n",
       " 'bottom': 3203,\n",
       " 'fault': 7050,\n",
       " 'dissolv': 5749,\n",
       " 'join': 10130,\n",
       " 'dissolut': 5748,\n",
       " 'unlov': 18741,\n",
       " 'true': 18333,\n",
       " 'stem': 16821,\n",
       " 'veri': 19095,\n",
       " 'expand': 6831,\n",
       " 'badli': 2539,\n",
       " 'latch': 10543,\n",
       " 'suffoc': 17127,\n",
       " 'bother': 3195,\n",
       " 'space': 16540,\n",
       " 'weekend': 19456,\n",
       " 'cancel': 3616,\n",
       " 'plan': 13704,\n",
       " 'favour': 7058,\n",
       " 'sink': 16084,\n",
       " 'mainli': 11194,\n",
       " 'awak': 2435,\n",
       " 'sustain': 17299,\n",
       " 'offer': 12742,\n",
       " 'must': 12106,\n",
       " 'exhaust': 6802,\n",
       " 'write': 19871,\n",
       " 'recogn': 14703,\n",
       " 'flaw': 7316,\n",
       " 'knowledg': 10413,\n",
       " 'entir': 6528,\n",
       " 'zero': 20111,\n",
       " 'notic': 12563,\n",
       " 'fell': 7113,\n",
       " 'earth': 6209,\n",
       " 'fade': 6944,\n",
       " 'oblivion': 12682,\n",
       " 'steven': 16844,\n",
       " 'galadriel': 7804,\n",
       " 'monologu': 11901,\n",
       " 'speak': 16572,\n",
       " 'elvish': 6385,\n",
       " 'amar': 1790,\n",
       " 'prestar': 14072,\n",
       " 'aen': 1472,\n",
       " 'han': 8488,\n",
       " 'matho': 11367,\n",
       " 'ne': 12266,\n",
       " 'nen': 12319,\n",
       " 'water': 19382,\n",
       " 'mathon': 11368,\n",
       " 'ned': 12287,\n",
       " 'cae': 3559,\n",
       " 'noston': 12539,\n",
       " 'gwilith': 8394,\n",
       " 'smell': 16268,\n",
       " 'air': 1619,\n",
       " 'forg': 7454,\n",
       " 'great': 8234,\n",
       " 'ring': 15138,\n",
       " 'three': 17846,\n",
       " 'given': 7989,\n",
       " 'elv': 6383,\n",
       " 'immort': 9436,\n",
       " 'wisest': 19688,\n",
       " 'fairest': 6965,\n",
       " 'seven': 15775,\n",
       " 'dwarf': 6139,\n",
       " 'lord': 11009,\n",
       " 'miner': 11699,\n",
       " 'craftsmen': 4741,\n",
       " 'mountain': 12002,\n",
       " 'hall': 8463,\n",
       " 'nine': 12441,\n",
       " 'gift': 7961,\n",
       " 'race': 14486,\n",
       " 'men': 11517,\n",
       " 'abov': 1272,\n",
       " 'power': 13981,\n",
       " 'within': 19706,\n",
       " 'bound': 3211,\n",
       " 'strength': 16961,\n",
       " 'govern': 8162,\n",
       " 'deceiv': 5180,\n",
       " 'land': 10506,\n",
       " 'mordor': 11943,\n",
       " 'fire': 7255,\n",
       " 'mount': 12001,\n",
       " 'doom': 5904,\n",
       " 'sauron': 15452,\n",
       " 'master': 11351,\n",
       " 'pour': 13975,\n",
       " 'hi': 8843,\n",
       " 'cruelti': 4845,\n",
       " 'malic': 11222,\n",
       " 'domin': 5868,\n",
       " 'rule': 15292,\n",
       " 'middl': 11637,\n",
       " 'resist': 14974,\n",
       " 'allianc': 1717,\n",
       " 'march': 11294,\n",
       " 'armi': 2185,\n",
       " 'slope': 16228,\n",
       " 'fought': 7493,\n",
       " 'freedom': 7545,\n",
       " 'victori': 19139,\n",
       " 'near': 12267,\n",
       " 'undon': 18646,\n",
       " 'isildur': 9884,\n",
       " 'son': 16467,\n",
       " 'king': 10353,\n",
       " 'sword': 17353,\n",
       " 'enemi': 6480,\n",
       " 'defeat': 5230,\n",
       " 'chanc': 3855,\n",
       " 'destroy': 5407,\n",
       " 'evil': 6735,\n",
       " 'forev': 7447,\n",
       " 'heart': 8658,\n",
       " 'easili': 6222,\n",
       " 'corrupt': 4634,\n",
       " 'betray': 2866,\n",
       " 'forgotten': 7461,\n",
       " 'becam': 2738,\n",
       " 'legend': 10650,\n",
       " 'myth': 12173,\n",
       " 'half': 8459,\n",
       " 'thousand': 17836,\n",
       " 'came': 3597,\n",
       " 'ensnar': 6516,\n",
       " 'bearer': 2724,\n",
       " 'creatur': 4772,\n",
       " 'gollum': 8098,\n",
       " 'tunnel': 18382,\n",
       " 'misti': 11789,\n",
       " 'gave': 7862,\n",
       " 'unnatur': 18758,\n",
       " 'five': 7278,\n",
       " 'hundr': 9195,\n",
       " 'poison': 13847,\n",
       " 'mind': 11684,\n",
       " 'gloom': 8018,\n",
       " 'cave': 3768,\n",
       " 'crept': 4790,\n",
       " 'forest': 7445,\n",
       " 'rumor': 15299,\n",
       " 'grew': 8257,\n",
       " 'shadow': 15808,\n",
       " 'east': 6223,\n",
       " 'whisper': 19570,\n",
       " 'nameless': 12201,\n",
       " 'perceiv': 13445,\n",
       " 'abandon': 1243,\n",
       " 'intend': 9744,\n",
       " 'pick': 13605,\n",
       " 'unlik': 18736,\n",
       " 'hobbit': 8943,\n",
       " 'bilbo': 2916,\n",
       " 'baggin': 2552,\n",
       " 'shire': 15888,\n",
       " 'soon': 16477,\n",
       " 'fortun': 7488,\n",
       " 'sock': 16382,\n",
       " 'heavi': 8680,\n",
       " 'woke': 19734,\n",
       " 'benefit': 2833,\n",
       " 'accord': 1333,\n",
       " 'healthlin': 8654,\n",
       " 'prevent': 14086,\n",
       " 'flash': 7304,\n",
       " 'women': 19742,\n",
       " 'cool': 4590,\n",
       " 'core': 4614,\n",
       " 'bodi': 3100,\n",
       " 'temperatur': 17572,\n",
       " 'improv': 9481,\n",
       " 'crack': 4732,\n",
       " 'heel': 8696,\n",
       " 'cotton': 4654,\n",
       " 'moistur': 11853,\n",
       " 'dri': 6024,\n",
       " 'increas': 9545,\n",
       " 'potenti': 13967,\n",
       " 'orgasm': 12949,\n",
       " 'bbc': 2694,\n",
       " 'http': 9149,\n",
       " 'news': 12379,\n",
       " 'co': 4226,\n",
       " 'uk': 18501,\n",
       " '4111360': 733,\n",
       " 'stm': 16879,\n",
       " 'research': 14963,\n",
       " 'accident': 1324,\n",
       " 'discov': 5657,\n",
       " 'particip': 13279,\n",
       " 'abil': 1255,\n",
       " 'achiev': 1358,\n",
       " '30': 622,\n",
       " 'percent': 13446,\n",
       " 'decreas': 5209,\n",
       " 'raynaud': 14605,\n",
       " 'diseas': 5666,\n",
       " 'area': 2157,\n",
       " 'skin': 16136,\n",
       " 'toe': 18045,\n",
       " 'finger': 7239,\n",
       " 'circul': 4091,\n",
       " 'throb': 17857,\n",
       " 'swell': 17335,\n",
       " 'feet': 7108,\n",
       " 'warm': 19358,\n",
       " 'graveyard': 8228,\n",
       " 'redditanyon': 14739,\n",
       " 'eeri': 6281,\n",
       " 'user': 18951,\n",
       " 'often': 12756,\n",
       " 'activ': 1379,\n",
       " 'redditor': 14744,\n",
       " 'dm': 5796,\n",
       " 'liter': 10858,\n",
       " 'anim': 1911,\n",
       " 'seri': 15743,\n",
       " 'flexibl': 7326,\n",
       " 'santa': 15420,\n",
       " 'clarita': 4127,\n",
       " 'diet': 5536,\n",
       " 'hollow': 8961,\n",
       " 'shera': 15866,\n",
       " 'extend': 6871,\n",
       " 'repertoir': 14918,\n",
       " 'text': 17636,\n",
       " 'hour': 9107,\n",
       " 'pretti': 14080,\n",
       " 'anecdot': 1885,\n",
       " 'late': 10544,\n",
       " 'miser': 11752,\n",
       " 'mine': 11695,\n",
       " 'certain': 3825,\n",
       " 'call': 3582,\n",
       " 'chest': 3950,\n",
       " 'nuisanc': 12621,\n",
       " 'x200b': 19909,\n",
       " 'trashlol': 18239,\n",
       " 'cring': 4801,\n",
       " 'loath': 10919,\n",
       " 'muster': 12110,\n",
       " 'courag': 4691,\n",
       " 'follow': 7409,\n",
       " 'appreci': 2113,\n",
       " 'let': 10688,\n",
       " 'song': 16470,\n",
       " 'lt': 11078,\n",
       " ...}"
      ]
     },
     "execution_count": 37,
     "metadata": {},
     "output_type": "execute_result"
    }
   ],
   "source": [
    "tfidf.vocabulary_"
   ]
  },
  {
   "cell_type": "code",
   "execution_count": 38,
   "id": "WuBDsxsRgxVi",
   "metadata": {
    "id": "WuBDsxsRgxVi"
   },
   "outputs": [],
   "source": [
    "import pickle\n",
    "\n",
    "pickle.dump(tfidf, open(\"tfidf.pickle\", \"wb\"))\n",
    "pickle.dump(x, open(\"train_comment_features.pickle\", \"wb\"))\n",
    "# pickle.dump(test_comment_features, open(\"test_comment_features.pickle\", \"wb\"))"
   ]
  },
  {
   "cell_type": "code",
   "execution_count": null,
   "id": "HlNrI54RzCBu",
   "metadata": {
    "id": "HlNrI54RzCBu"
   },
   "outputs": [],
   "source": []
  },
  {
   "cell_type": "code",
   "execution_count": 39,
   "id": "YAhZ6U2jzCBu",
   "metadata": {
    "id": "YAhZ6U2jzCBu"
   },
   "outputs": [],
   "source": [
    "from sklearn.model_selection import train_test_split\n",
    "X_train,X_test,y_train,y_test=train_test_split(x,y,random_state=1,test_size=0.3,shuffle=False)"
   ]
  },
  {
   "cell_type": "code",
   "execution_count": 40,
   "id": "y04l-yU5Q204",
   "metadata": {
    "id": "y04l-yU5Q204"
   },
   "outputs": [
    {
     "data": {
      "text/plain": [
       "<7000x20307 sparse matrix of type '<class 'numpy.float64'>'\n",
       "\twith 316010 stored elements in Compressed Sparse Row format>"
      ]
     },
     "execution_count": 40,
     "metadata": {},
     "output_type": "execute_result"
    }
   ],
   "source": [
    "X_train"
   ]
  },
  {
   "cell_type": "code",
   "execution_count": 41,
   "id": "46UFuKc0Q29_",
   "metadata": {
    "id": "46UFuKc0Q29_"
   },
   "outputs": [
    {
     "data": {
      "text/plain": [
       "<3000x20307 sparse matrix of type '<class 'numpy.float64'>'\n",
       "\twith 139620 stored elements in Compressed Sparse Row format>"
      ]
     },
     "execution_count": 41,
     "metadata": {},
     "output_type": "execute_result"
    }
   ],
   "source": [
    "X_test"
   ]
  },
  {
   "cell_type": "code",
   "execution_count": 42,
   "id": "RZZF4B1AzCBu",
   "metadata": {
    "id": "RZZF4B1AzCBu"
   },
   "outputs": [
    {
     "name": "stderr",
     "output_type": "stream",
     "text": [
      "[Parallel(n_jobs=-1)]: Using backend LokyBackend with 8 concurrent workers.\n",
      "[Parallel(n_jobs=-1)]: Done   3 out of   6 | elapsed:   14.2s remaining:   14.2s\n",
      "[Parallel(n_jobs=-1)]: Done   6 out of   6 | elapsed:   15.1s remaining:    0.0s\n",
      "[Parallel(n_jobs=-1)]: Done   6 out of   6 | elapsed:   15.1s finished\n"
     ]
    },
    {
     "name": "stdout",
     "output_type": "stream",
     "text": [
      "Accuracy: 0.9116666666666666\n"
     ]
    }
   ],
   "source": [
    "from sklearn.linear_model import LogisticRegressionCV\n",
    "clf=LogisticRegressionCV(cv=6,scoring='accuracy',random_state=0,n_jobs=-1,verbose=3,max_iter=500)\n",
    "classifier = clf.fit(X_train,y_train)\n",
    "y_pred = classifier.predict(X_test)\n",
    "\n",
    "from sklearn import metrics\n",
    "print(\"Accuracy:\",metrics.accuracy_score(y_test, y_pred))"
   ]
  },
  {
   "cell_type": "code",
   "execution_count": 43,
   "id": "82Mp72MlzCBv",
   "metadata": {
    "id": "82Mp72MlzCBv"
   },
   "outputs": [
    {
     "name": "stdout",
     "output_type": "stream",
     "text": [
      "[[1392  110]\n",
      " [ 155 1343]]\n"
     ]
    }
   ],
   "source": [
    "cm=metrics.confusion_matrix(y_test,y_pred)\n",
    "print(cm)"
   ]
  },
  {
   "cell_type": "code",
   "execution_count": 44,
   "id": "1774fd04",
   "metadata": {},
   "outputs": [
    {
     "data": {
      "text/plain": [
       "<function matplotlib.pyplot.show(close=None, block=None)>"
      ]
     },
     "execution_count": 44,
     "metadata": {},
     "output_type": "execute_result"
    },
    {
     "data": {
      "image/png": "[encoded data removed]",
      "text/plain": [
       "<Figure size 640x480 with 2 Axes>"
      ]
     },
     "metadata": {},
     "output_type": "display_data"
    }
   ],
   "source": [
    "from sklearn.metrics import confusion_matrix,ConfusionMatrixDisplay,classification_report\n",
    "cm_display=ConfusionMatrixDisplay(confusion_matrix=cm)\n",
    "cm_display.plot(cmap=plt.cm.Greens)\n",
    "plt.show"
   ]
  },
  {
   "cell_type": "code",
   "execution_count": 45,
   "id": "7111ea13",
   "metadata": {},
   "outputs": [
    {
     "name": "stdout",
     "output_type": "stream",
     "text": [
      "Classification Report\n",
      "\n",
      "\n",
      "              precision    recall  f1-score   support\n",
      "\n",
      "           0       0.90      0.93      0.91      1502\n",
      "           1       0.92      0.90      0.91      1498\n",
      "\n",
      "    accuracy                           0.91      3000\n",
      "   macro avg       0.91      0.91      0.91      3000\n",
      "weighted avg       0.91      0.91      0.91      3000\n",
      "\n"
     ]
    }
   ],
   "source": [
    "print(\"Classification Report\\n\\n\")\n",
    "print(classification_report(y_test,y_pred))\n"
   ]
  },
  {
   "cell_type": "code",
   "execution_count": 46,
   "id": "1d4d004d",
   "metadata": {},
   "outputs": [],
   "source": [
    "from sklearn.metrics import accuracy_score,precision_score,f1_score,recall_score"
   ]
  },
  {
   "cell_type": "code",
   "execution_count": 47,
   "id": "98c7c8ee",
   "metadata": {},
   "outputs": [
    {
     "name": "stdout",
     "output_type": "stream",
     "text": [
      "accuracy: 0.9116666666666666\n",
      "precision: 0.9242945629731589\n",
      "recall: 0.8965287049399199\n",
      "f1-score: 0.910199932226364\n"
     ]
    }
   ],
   "source": [
    "print('accuracy:',metrics.accuracy_score(y_test,y_pred))\n",
    "print('precision:',metrics.precision_score(y_test,y_pred))\n",
    "print('recall:',metrics.recall_score(y_test,y_pred))\n",
    "print('f1-score:',metrics.f1_score(y_test,y_pred))\n"
   ]
  },
  {
   "cell_type": "code",
   "execution_count": null,
   "id": "7cb4c3dc",
   "metadata": {},
   "outputs": [],
   "source": []
  },
  {
   "cell_type": "code",
   "execution_count": 48,
   "id": "eae967ef",
   "metadata": {},
   "outputs": [],
   "source": [
    "from sklearn.model_selection import StratifiedKFold"
   ]
  },
  {
   "cell_type": "code",
   "execution_count": 49,
   "id": "6943947a",
   "metadata": {},
   "outputs": [
    {
     "data": {
      "image/png": "[encoded data removed]",
      "text/plain": [
       "<Figure size 640x480 with 1 Axes>"
      ]
     },
     "metadata": {},
     "output_type": "display_data"
    }
   ],
   "source": [
    "# def roc_plotting(model,model_name):\n",
    "#   cv = StratifiedKFold(n_splits=10)\n",
    "\n",
    "#   fig1 = plt.figure(figsize=[12,8])\n",
    "#   ax1 = fig1.add_subplot(111,aspect = 'equal')\n",
    "#   tprs = []\n",
    "#   aucs = []\n",
    "#   mean_fpr = np.linspace(0,1,100)\n",
    "#   i = 1\n",
    "#   for train,test in cv.split(X_train, X_test):\n",
    "#       model.fit(X.iloc[train].values,Y.iloc[train].values)\n",
    "#       prediction = model.predict_proba(X.iloc[test].values)\n",
    "#       fpr, tpr, t = roc_curve(Y[test], prediction[:, 1])\n",
    "#       tprs.append(np.interp(mean_fpr, fpr, tpr))\n",
    "#       roc_auc = auc(fpr, tpr)\n",
    "#       aucs.append(roc_auc)\n",
    "#       plt.plot(fpr, tpr, lw=2, alpha=0.3, label='ROC fold %d (AUC = %0.2f)' % (i, roc_auc))\n",
    "#       i= i+1\n",
    "\n",
    "#   plt.plot([0,1],[0,1],linestyle = '--',lw = 2,color = 'black')\n",
    "#   mean_tpr = np.mean(tprs, axis=0)\n",
    "#   mean_auc = auc(mean_fpr, mean_tpr)\n",
    "#   plt.plot(mean_fpr, mean_tpr, color='blue',\n",
    "#           label=r'Mean ROC (AUC = %0.2f )' % (mean_auc),lw=2, alpha=1)\n",
    "#   plt.xlabel('False Positive Rate')\n",
    "#   plt.ylabel('True Positive Rate')\n",
    "#   plt.title(f'ROC For {model_name}')\n",
    "#   plt.legend(loc=\"lower right\")\n",
    "\n",
    "\n",
    "# roc_plotting(classifier,\"LogisticRegressionCV\")\n",
    "\n",
    "\n",
    "\n",
    "import matplotlib.pyplot as plt\n",
    "import numpy as np\n",
    "from sklearn.linear_model import LogisticRegressionCV\n",
    "from sklearn.datasets import make_classification\n",
    "from sklearn.model_selection import train_test_split\n",
    "from sklearn.metrics import accuracy_score\n",
    "\n",
    "# Plot the accuracy curve\n",
    "plt.plot(np.mean(classifier.scores_[1], axis=0), marker = 'o')\n",
    "plt.title('Accuracy Curve')\n",
    "plt.xlabel('Iteration')\n",
    "plt.ylabel('Accuracy')\n",
    "plt.show()"
   ]
  },
  {
   "cell_type": "code",
   "execution_count": 50,
   "id": "174693fe",
   "metadata": {},
   "outputs": [],
   "source": [
    "from sklearn.datasets import make_classification\n",
    "from sklearn.linear_model import LogisticRegression\n",
    "import matplotlib.pyplot as plt"
   ]
  },
  {
   "cell_type": "code",
   "execution_count": null,
   "id": "84467a25",
   "metadata": {},
   "outputs": [],
   "source": []
  },
  {
   "cell_type": "code",
   "execution_count": null,
   "id": "f090e19c",
   "metadata": {},
   "outputs": [],
   "source": []
  },
  {
   "cell_type": "code",
   "execution_count": null,
   "id": "8f8df755",
   "metadata": {},
   "outputs": [],
   "source": []
  },
  {
   "cell_type": "code",
   "execution_count": 55,
   "id": "g3yohq31N1bh",
   "metadata": {
    "id": "g3yohq31N1bh"
   },
   "outputs": [],
   "source": [
    "import pickle\n",
    "pickle.dump(classifier, open(\"lr_model.sav\", 'wb'))\n",
    " \n",
    "# some time later...\n",
    " \n",
    "# load the model from disk\n",
    "import pickle\n",
    "loaded_model = pickle.load(open(\"lr_model.sav\", 'rb'))\n",
    "result = loaded_model.score(X_test, y_test)"
   ]
  },
  {
   "cell_type": "code",
   "execution_count": null,
   "id": "267eddac",
   "metadata": {},
   "outputs": [],
   "source": []
  },
  {
   "cell_type": "code",
   "execution_count": 56,
   "id": "5JsuCiceOfqV",
   "metadata": {
    "id": "5JsuCiceOfqV"
   },
   "outputs": [
    {
     "data": {
      "text/plain": [
       "0.9116666666666666"
      ]
     },
     "execution_count": 56,
     "metadata": {},
     "output_type": "execute_result"
    }
   ],
   "source": [
    "result"
   ]
  },
  {
   "cell_type": "code",
   "execution_count": null,
   "id": "b00db815",
   "metadata": {},
   "outputs": [],
   "source": []
  },
  {
   "cell_type": "markdown",
   "id": "al6PlSCE-kEp",
   "metadata": {
    "id": "al6PlSCE-kEp"
   },
   "source": [
    "# Deep learning model"
   ]
  },
  {
   "cell_type": "code",
   "execution_count": 123,
   "id": "2gayPjRN_CQ8",
   "metadata": {
    "id": "2gayPjRN_CQ8"
   },
   "outputs": [
    {
     "data": {
      "text/plain": [
       "(10000, 20307)"
      ]
     },
     "execution_count": 123,
     "metadata": {},
     "output_type": "execute_result"
    }
   ],
   "source": [
    "x.shape"
   ]
  },
  {
   "cell_type": "code",
   "execution_count": 124,
   "id": "Pg4RfqkveRi2",
   "metadata": {
    "id": "Pg4RfqkveRi2"
   },
   "outputs": [
    {
     "name": "stdout",
     "output_type": "stream",
     "text": [
      "Model: \"sequential\"\n",
      "_________________________________________________________________\n",
      " Layer (type)                Output Shape              Param #   \n",
      "=================================================================\n",
      " dense (Dense)               (None, 3)                 60924     \n",
      "                                                                 \n",
      " dense_1 (Dense)             (None, 1)                 4         \n",
      "                                                                 \n",
      "=================================================================\n",
      "Total params: 60,928\n",
      "Trainable params: 60,928\n",
      "Non-trainable params: 0\n",
      "_________________________________________________________________\n"
     ]
    }
   ],
   "source": [
    "from keras.models import Sequential\n",
    "from keras.layers import Dense, LSTM, Dropout\n",
    "\n",
    "model = Sequential()\n",
    "#model.add(LSTM(128,  input_shape=(20307, 20307),return_sequences=True))\n",
    "model.add(Dense(3, activation='relu', input_shape=(20307,)))\n",
    "#model.add(Dropout(.4))\n",
    "#model.add(Dense(2, activation='relu'))\n",
    "model.add(Dense(1, activation='sigmoid'))\n",
    "model.summary()\n",
    "model.compile(loss='binary_crossentropy', optimizer='adam')"
   ]
  },
  {
   "cell_type": "code",
   "execution_count": 125,
   "id": "2qJnlEmU-ZNl",
   "metadata": {
    "id": "2qJnlEmU-ZNl"
   },
   "outputs": [
    {
     "name": "stdout",
     "output_type": "stream",
     "text": [
      "Epoch 1/30\n",
      "175/175 [==============================] - 4s 10ms/step - loss: 0.6283 - val_loss: 0.5605\n",
      "Epoch 2/30\n",
      "175/175 [==============================] - 1s 6ms/step - loss: 0.4888 - val_loss: 0.4473\n",
      "Epoch 3/30\n",
      "175/175 [==============================] - 1s 7ms/step - loss: 0.3796 - val_loss: 0.3709\n",
      "Epoch 4/30\n",
      "175/175 [==============================] - 1s 7ms/step - loss: 0.3040 - val_loss: 0.3208\n",
      "Epoch 5/30\n",
      "175/175 [==============================] - 1s 7ms/step - loss: 0.2523 - val_loss: 0.2902\n",
      "Epoch 6/30\n",
      "175/175 [==============================] - 1s 8ms/step - loss: 0.2153 - val_loss: 0.2699\n",
      "Epoch 7/30\n",
      "175/175 [==============================] - 1s 8ms/step - loss: 0.1873 - val_loss: 0.2556\n",
      "Epoch 8/30\n",
      "175/175 [==============================] - 1s 7ms/step - loss: 0.1652 - val_loss: 0.2460\n",
      "Epoch 9/30\n",
      "175/175 [==============================] - 1s 7ms/step - loss: 0.1469 - val_loss: 0.2395\n",
      "Epoch 10/30\n",
      "175/175 [==============================] - 1s 7ms/step - loss: 0.1317 - val_loss: 0.2350\n",
      "Epoch 11/30\n",
      "175/175 [==============================] - 1s 8ms/step - loss: 0.1186 - val_loss: 0.2323\n",
      "Epoch 12/30\n",
      "175/175 [==============================] - 1s 8ms/step - loss: 0.1072 - val_loss: 0.2308\n",
      "Epoch 13/30\n",
      "175/175 [==============================] - 1s 8ms/step - loss: 0.0972 - val_loss: 0.2294\n",
      "Epoch 14/30\n",
      "175/175 [==============================] - 1s 8ms/step - loss: 0.0882 - val_loss: 0.2290\n",
      "Epoch 15/30\n",
      "175/175 [==============================] - 1s 7ms/step - loss: 0.0803 - val_loss: 0.2301\n",
      "Epoch 16/30\n",
      "175/175 [==============================] - 1s 8ms/step - loss: 0.0732 - val_loss: 0.2302\n",
      "Epoch 17/30\n",
      "175/175 [==============================] - 1s 8ms/step - loss: 0.0668 - val_loss: 0.2323\n",
      "Epoch 18/30\n",
      "175/175 [==============================] - 1s 8ms/step - loss: 0.0611 - val_loss: 0.2340\n",
      "Epoch 19/30\n",
      "175/175 [==============================] - 1s 8ms/step - loss: 0.0559 - val_loss: 0.2363\n",
      "Epoch 20/30\n",
      "175/175 [==============================] - 1s 8ms/step - loss: 0.0512 - val_loss: 0.2393\n",
      "Epoch 21/30\n",
      "175/175 [==============================] - 1s 8ms/step - loss: 0.0470 - val_loss: 0.2419\n",
      "Epoch 22/30\n",
      "175/175 [==============================] - 1s 8ms/step - loss: 0.0431 - val_loss: 0.2447\n",
      "Epoch 23/30\n",
      "175/175 [==============================] - 1s 8ms/step - loss: 0.0396 - val_loss: 0.2476\n",
      "Epoch 24/30\n",
      "175/175 [==============================] - 1s 8ms/step - loss: 0.0364 - val_loss: 0.2510\n",
      "Epoch 25/30\n",
      "175/175 [==============================] - 1s 8ms/step - loss: 0.0334 - val_loss: 0.2546\n",
      "Epoch 26/30\n",
      "175/175 [==============================] - 1s 8ms/step - loss: 0.0308 - val_loss: 0.2585\n",
      "Epoch 27/30\n",
      "175/175 [==============================] - 1s 8ms/step - loss: 0.0283 - val_loss: 0.2629\n",
      "Epoch 28/30\n",
      "175/175 [==============================] - 1s 8ms/step - loss: 0.0261 - val_loss: 0.2655\n",
      "Epoch 29/30\n",
      "175/175 [==============================] - 1s 8ms/step - loss: 0.0241 - val_loss: 0.2699\n",
      "Epoch 30/30\n",
      "175/175 [==============================] - 1s 8ms/step - loss: 0.0222 - val_loss: 0.2748\n"
     ]
    },
    {
     "data": {
      "text/plain": [
       "<keras.callbacks.History at 0x1483c8a4a10>"
      ]
     },
     "execution_count": 125,
     "metadata": {},
     "output_type": "execute_result"
    }
   ],
   "source": [
    "model.fit(X_train.toarray(), y_train, validation_split =.2, epochs=30, verbose=1)"
   ]
  },
  {
   "cell_type": "code",
   "execution_count": 126,
   "id": "OndF5FGY-ZQ3",
   "metadata": {
    "id": "OndF5FGY-ZQ3"
   },
   "outputs": [
    {
     "name": "stdout",
     "output_type": "stream",
     "text": [
      "94/94 [==============================] - 0s 3ms/step\n"
     ]
    }
   ],
   "source": [
    "y_pred = model.predict(X_test.toarray())"
   ]
  },
  {
   "cell_type": "code",
   "execution_count": 127,
   "id": "vsPnHTEyX3wn",
   "metadata": {
    "id": "vsPnHTEyX3wn"
   },
   "outputs": [
    {
     "data": {
      "text/plain": [
       "array([[0.9969612 ],\n",
       "       [0.99987096],\n",
       "       [0.8100697 ],\n",
       "       ...,\n",
       "       [0.95802516],\n",
       "       [0.00681922],\n",
       "       [0.9995963 ]], dtype=float32)"
      ]
     },
     "execution_count": 127,
     "metadata": {},
     "output_type": "execute_result"
    }
   ],
   "source": [
    "y_pred"
   ]
  },
  {
   "cell_type": "code",
   "execution_count": 128,
   "id": "FsPYwtzF-ZTq",
   "metadata": {
    "id": "FsPYwtzF-ZTq"
   },
   "outputs": [],
   "source": [
    "y_pred = (y_pred>.5)*1"
   ]
  },
  {
   "cell_type": "code",
   "execution_count": 129,
   "id": "8D7_b23H-ZXc",
   "metadata": {
    "id": "8D7_b23H-ZXc"
   },
   "outputs": [
    {
     "name": "stdout",
     "output_type": "stream",
     "text": [
      "[[1356  146]\n",
      " [ 144 1354]]\n"
     ]
    }
   ],
   "source": [
    "cm=metrics.confusion_matrix(y_test,y_pred)\n",
    "print(cm)"
   ]
  },
  {
   "cell_type": "code",
   "execution_count": 131,
   "id": "bb3BLhp6eRvl",
   "metadata": {
    "id": "bb3BLhp6eRvl"
   },
   "outputs": [
    {
     "data": {
      "text/plain": [
       "0.9033333333333333"
      ]
     },
     "execution_count": 131,
     "metadata": {},
     "output_type": "execute_result"
    }
   ],
   "source": [
    "(cm[1, 1] + cm[0, 0])/sum(sum(cm))"
   ]
  },
  {
   "cell_type": "code",
   "execution_count": null,
   "id": "RLmUbFLfeRyT",
   "metadata": {
    "id": "RLmUbFLfeRyT"
   },
   "outputs": [],
   "source": []
  },
  {
   "cell_type": "code",
   "execution_count": 132,
   "id": "4aVX0kdqeR0B",
   "metadata": {
    "id": "4aVX0kdqeR0B"
   },
   "outputs": [],
   "source": [
    "# "
   ]
  },
  {
   "cell_type": "markdown",
   "id": "P39GrWnReUZZ",
   "metadata": {
    "id": "P39GrWnReUZZ"
   },
   "source": [
    "# deployement part"
   ]
  },
  {
   "cell_type": "code",
   "execution_count": 133,
   "id": "PK3dFNO9WMpr",
   "metadata": {
    "id": "PK3dFNO9WMpr"
   },
   "outputs": [
    {
     "name": "stdout",
     "output_type": "stream",
     "text": [
      "Enter a text to check if it is suicidal: raju will die soon\n"
     ]
    },
    {
     "name": "stderr",
     "output_type": "stream",
     "text": [
      "[nltk_data] Downloading package stopwords to C:\\Users\\NARALA\n",
      "[nltk_data]     SIDDHARTHA\\AppData\\Roaming\\nltk_data...\n",
      "[nltk_data]   Package stopwords is already up-to-date!\n",
      "[nltk_data] Downloading package stopwords to C:\\Users\\NARALA\n",
      "[nltk_data]     SIDDHARTHA\\AppData\\Roaming\\nltk_data...\n",
      "[nltk_data]   Package stopwords is already up-to-date!\n"
     ]
    }
   ],
   "source": [
    "text = input(\"Enter a text to check if it is suicidal: \")\n",
    "\n",
    "from nltk.stem.porter import PorterStemmer\n",
    "porter=PorterStemmer()\n",
    "def tokenizer_porter(text):\n",
    "    return [porter.stem(word) for word in text.split()]\n",
    "\n",
    "text = np.array(tokenizer_porter(text))\n",
    "\n",
    "import nltk\n",
    "nltk.download('stopwords')\n",
    "from nltk.corpus import stopwords\n",
    "stops=stopwords.words('english')\n",
    "nltk.download('stopwords')\n",
    "\n",
    "\n",
    "def remove_stopwords(lower_tokens):\n",
    "  filtered_words=[]\n",
    "  for s in lower_tokens:\n",
    "    temp=[]\n",
    "    for token in s:\n",
    "      if token not in stops:\n",
    "        temp.append(token)\n",
    "    filtered_words.append(temp)\n",
    "  return filtered_words\n",
    "\n",
    "\n",
    "f_text = np.array(remove_stopwords([text])[0])\n",
    "\n",
    "\n",
    "\n",
    "\n",
    "f_text = \" \".join(f_text)\n",
    "\n",
    "\n",
    "import pickle\n",
    "\n",
    "tfidf_vectorizer = pickle.load(open(\"tfidf.pickle\", \"rb\"))\n",
    "ss2 = tfidf_vectorizer.transform([f_text])\n",
    "\n",
    "# load the model from disk\n",
    "import pickle\n",
    "loaded_model = pickle.load(open(\"lr_model.sav\", 'rb'))\n",
    "result = loaded_model.predict(ss2)"
   ]
  },
  {
   "cell_type": "code",
   "execution_count": 134,
   "id": "wl3qHC_oWNLV",
   "metadata": {
    "id": "wl3qHC_oWNLV"
   },
   "outputs": [
    {
     "data": {
      "text/plain": [
       "1"
      ]
     },
     "execution_count": 134,
     "metadata": {},
     "output_type": "execute_result"
    }
   ],
   "source": [
    "result[0]"
   ]
  },
  {
   "cell_type": "code",
   "execution_count": null,
   "id": "HEWVZz0gWNRe",
   "metadata": {
    "id": "HEWVZz0gWNRe"
   },
   "outputs": [],
   "source": []
  },
  {
   "cell_type": "code",
   "execution_count": null,
   "id": "8_xu6g_eiXrf",
   "metadata": {
    "id": "8_xu6g_eiXrf"
   },
   "outputs": [],
   "source": []
  },
  {
   "cell_type": "code",
   "execution_count": null,
   "id": "ESPukFn4iXoY",
   "metadata": {
    "id": "ESPukFn4iXoY"
   },
   "outputs": [],
   "source": []
  },
  {
   "cell_type": "code",
   "execution_count": null,
   "id": "WIiAygBciXlc",
   "metadata": {
    "id": "WIiAygBciXlc"
   },
   "outputs": [],
   "source": []
  },
  {
   "cell_type": "code",
   "execution_count": null,
   "id": "ZqyT-C6RiXiT",
   "metadata": {
    "id": "ZqyT-C6RiXiT"
   },
   "outputs": [],
   "source": []
  },
  {
   "cell_type": "code",
   "execution_count": null,
   "id": "Kxrsj6B2iXd9",
   "metadata": {
    "id": "Kxrsj6B2iXd9"
   },
   "outputs": [],
   "source": []
  },
  {
   "cell_type": "code",
   "execution_count": null,
   "id": "7MiNcuUWiXbF",
   "metadata": {
    "id": "7MiNcuUWiXbF"
   },
   "outputs": [],
   "source": []
  },
  {
   "cell_type": "code",
   "execution_count": null,
   "id": "SqgmbRj9iXYJ",
   "metadata": {
    "id": "SqgmbRj9iXYJ"
   },
   "outputs": [],
   "source": []
  },
  {
   "cell_type": "code",
   "execution_count": null,
   "id": "cK-1u2D6iXVI",
   "metadata": {
    "id": "cK-1u2D6iXVI"
   },
   "outputs": [],
   "source": []
  },
  {
   "cell_type": "code",
   "execution_count": null,
   "id": "WRK-EQY7iXSK",
   "metadata": {
    "id": "WRK-EQY7iXSK"
   },
   "outputs": [],
   "source": []
  },
  {
   "cell_type": "code",
   "execution_count": null,
   "id": "CgkyyVM6iXKF",
   "metadata": {
    "id": "CgkyyVM6iXKF"
   },
   "outputs": [],
   "source": []
  },
  {
   "cell_type": "code",
   "execution_count": null,
   "id": "Zla1tyWoiXHx",
   "metadata": {
    "id": "Zla1tyWoiXHx"
   },
   "outputs": [],
   "source": []
  },
  {
   "cell_type": "code",
   "execution_count": null,
   "id": "HmEfQpzNPErm",
   "metadata": {
    "id": "HmEfQpzNPErm"
   },
   "outputs": [],
   "source": [
    "tfidf"
   ]
  },
  {
   "cell_type": "code",
   "execution_count": null,
   "id": "adC7ezDEPEt9",
   "metadata": {
    "id": "adC7ezDEPEt9"
   },
   "outputs": [],
   "source": []
  },
  {
   "cell_type": "code",
   "execution_count": null,
   "id": "blYb8QD9mrne",
   "metadata": {
    "id": "blYb8QD9mrne"
   },
   "outputs": [],
   "source": [
    "corpus = np.array([])"
   ]
  },
  {
   "cell_type": "code",
   "execution_count": null,
   "id": "bR1CUC-9Xp_0",
   "metadata": {
    "id": "bR1CUC-9Xp_0"
   },
   "outputs": [],
   "source": []
  },
  {
   "cell_type": "code",
   "execution_count": null,
   "id": "2DSWAnC_bUvp",
   "metadata": {
    "id": "2DSWAnC_bUvp"
   },
   "outputs": [],
   "source": [
    "X_train.shape"
   ]
  },
  {
   "cell_type": "code",
   "execution_count": null,
   "id": "O9qfLOeL9cse",
   "metadata": {
    "id": "O9qfLOeL9cse"
   },
   "outputs": [],
   "source": []
  },
  {
   "cell_type": "code",
   "execution_count": null,
   "id": "g5ANBtkdbuSy",
   "metadata": {
    "id": "g5ANBtkdbuSy"
   },
   "outputs": [],
   "source": []
  },
  {
   "cell_type": "code",
   "execution_count": null,
   "id": "u4qdcJk8zCBw",
   "metadata": {
    "id": "u4qdcJk8zCBw"
   },
   "outputs": [],
   "source": [
    "# create the model\n",
    "model = Sequential()\n",
    "#model.add(Embedding(top_words, 32, input_length=max_words))\n",
    "#model.add(Conv1D(32, 3, padding='same', activation='relu'))\n",
    "#model.add(MaxPooling1D())\n",
    "model.add(LSTM(64))\n",
    "#model.add(Flatten())\n",
    "model.add(Dense(128, activation='relu'))\n",
    "model.add(Dense(1, activation='sigmoid'))\n",
    "model.compile(loss='binary_crossentropy', optimizer='adam', metrics=['accuracy'])\n",
    "model.summary()"
   ]
  },
  {
   "cell_type": "code",
   "execution_count": null,
   "id": "j5eWJBDA8jPA",
   "metadata": {
    "id": "j5eWJBDA8jPA"
   },
   "outputs": [],
   "source": []
  },
  {
   "cell_type": "code",
   "execution_count": null,
   "id": "a97f4244",
   "metadata": {},
   "outputs": [],
   "source": []
  },
  {
   "cell_type": "markdown",
   "id": "51735801",
   "metadata": {},
   "source": [
    "# Comparitive Ananlysis"
   ]
  },
  {
   "cell_type": "markdown",
   "id": "f32fc9df",
   "metadata": {},
   "source": [
    "# SVM "
   ]
  },
  {
   "cell_type": "code",
   "execution_count": 73,
   "id": "ddad1388",
   "metadata": {},
   "outputs": [],
   "source": [
    "from sklearn.svm import SVC"
   ]
  },
  {
   "cell_type": "code",
   "execution_count": 77,
   "id": "a352c204",
   "metadata": {},
   "outputs": [],
   "source": [
    "Classifier = SVC(kernel=\"linear\")\n",
    "\n",
    "# Training the model on the training data and labels\n",
    "Classifier.fit(X_train, y_train)\n",
    "\n",
    "# Using the model to predict the labels of the test data\n",
    "y_predSVC = Classifier.predict(X_test)\n",
    "\n",
    "# Evaluating the accuracy of the model using the sklearn functions\n",
    "accuracySVM = accuracy_score(y_test,y_pred)*100"
   ]
  },
  {
   "cell_type": "code",
   "execution_count": 78,
   "id": "7bb67a54",
   "metadata": {},
   "outputs": [
    {
     "data": {
      "text/plain": [
       "91.63333333333334"
      ]
     },
     "execution_count": 78,
     "metadata": {},
     "output_type": "execute_result"
    }
   ],
   "source": [
    "accuracy"
   ]
  },
  {
   "cell_type": "code",
   "execution_count": 79,
   "id": "8aa6a159",
   "metadata": {},
   "outputs": [
    {
     "name": "stdout",
     "output_type": "stream",
     "text": [
      "accuracy: 0.9163333333333333\n",
      "precision: 0.9244383934649422\n",
      "recall: 0.9065420560747663\n",
      "f1-score: 0.9154027637344119\n"
     ]
    }
   ],
   "source": [
    "print('accuracy:',metrics.accuracy_score(y_test,y_predSVC))\n",
    "print('precision:',metrics.precision_score(y_test,y_predSVC))\n",
    "print('recall:',metrics.recall_score(y_test,y_predSVC))\n",
    "print('f1-score:',metrics.f1_score(y_test,y_predSVC))"
   ]
  },
  {
   "cell_type": "markdown",
   "id": "7f962ad1",
   "metadata": {},
   "source": [
    "# XGBoost"
   ]
  },
  {
   "cell_type": "code",
   "execution_count": 80,
   "id": "0c918fb7",
   "metadata": {},
   "outputs": [],
   "source": [
    "import xgboost"
   ]
  },
  {
   "cell_type": "code",
   "execution_count": 81,
   "id": "1ffff05f",
   "metadata": {},
   "outputs": [
    {
     "data": {
      "text/html": [
       "<style>#sk-container-id-3 {color: black;background-color: white;}#sk-container-id-3 pre{padding: 0;}#sk-container-id-3 div.sk-toggleable {background-color: white;}#sk-container-id-3 label.sk-toggleable__label {cursor: pointer;display: block;width: 100%;margin-bottom: 0;padding: 0.3em;box-sizing: border-box;text-align: center;}#sk-container-id-3 label.sk-toggleable__label-arrow:before {content: \"▸\";float: left;margin-right: 0.25em;color: #696969;}#sk-container-id-3 label.sk-toggleable__label-arrow:hover:before {color: black;}#sk-container-id-3 div.sk-estimator:hover label.sk-toggleable__label-arrow:before {color: black;}#sk-container-id-3 div.sk-toggleable__content {max-height: 0;max-width: 0;overflow: hidden;text-align: left;background-color: #f0f8ff;}#sk-container-id-3 div.sk-toggleable__content pre {margin: 0.2em;color: black;border-radius: 0.25em;background-color: #f0f8ff;}#sk-container-id-3 input.sk-toggleable__control:checked~div.sk-toggleable__content {max-height: 200px;max-width: 100%;overflow: auto;}#sk-container-id-3 input.sk-toggleable__control:checked~label.sk-toggleable__label-arrow:before {content: \"▾\";}#sk-container-id-3 div.sk-estimator input.sk-toggleable__control:checked~label.sk-toggleable__label {background-color: #d4ebff;}#sk-container-id-3 div.sk-label input.sk-toggleable__control:checked~label.sk-toggleable__label {background-color: #d4ebff;}#sk-container-id-3 input.sk-hidden--visually {border: 0;clip: rect(1px 1px 1px 1px);clip: rect(1px, 1px, 1px, 1px);height: 1px;margin: -1px;overflow: hidden;padding: 0;position: absolute;width: 1px;}#sk-container-id-3 div.sk-estimator {font-family: monospace;background-color: #f0f8ff;border: 1px dotted black;border-radius: 0.25em;box-sizing: border-box;margin-bottom: 0.5em;}#sk-container-id-3 div.sk-estimator:hover {background-color: #d4ebff;}#sk-container-id-3 div.sk-parallel-item::after {content: \"\";width: 100%;border-bottom: 1px solid gray;flex-grow: 1;}#sk-container-id-3 div.sk-label:hover label.sk-toggleable__label {background-color: #d4ebff;}#sk-container-id-3 div.sk-serial::before {content: \"\";position: absolute;border-left: 1px solid gray;box-sizing: border-box;top: 0;bottom: 0;left: 50%;z-index: 0;}#sk-container-id-3 div.sk-serial {display: flex;flex-direction: column;align-items: center;background-color: white;padding-right: 0.2em;padding-left: 0.2em;position: relative;}#sk-container-id-3 div.sk-item {position: relative;z-index: 1;}#sk-container-id-3 div.sk-parallel {display: flex;align-items: stretch;justify-content: center;background-color: white;position: relative;}#sk-container-id-3 div.sk-item::before, #sk-container-id-3 div.sk-parallel-item::before {content: \"\";position: absolute;border-left: 1px solid gray;box-sizing: border-box;top: 0;bottom: 0;left: 50%;z-index: -1;}#sk-container-id-3 div.sk-parallel-item {display: flex;flex-direction: column;z-index: 1;position: relative;background-color: white;}#sk-container-id-3 div.sk-parallel-item:first-child::after {align-self: flex-end;width: 50%;}#sk-container-id-3 div.sk-parallel-item:last-child::after {align-self: flex-start;width: 50%;}#sk-container-id-3 div.sk-parallel-item:only-child::after {width: 0;}#sk-container-id-3 div.sk-dashed-wrapped {border: 1px dashed gray;margin: 0 0.4em 0.5em 0.4em;box-sizing: border-box;padding-bottom: 0.4em;background-color: white;}#sk-container-id-3 div.sk-label label {font-family: monospace;font-weight: bold;display: inline-block;line-height: 1.2em;}#sk-container-id-3 div.sk-label-container {text-align: center;}#sk-container-id-3 div.sk-container {/* jupyter's `normalize.less` sets `[hidden] { display: none; }` but bootstrap.min.css set `[hidden] { display: none !important; }` so we also need the `!important` here to be able to override the default hidden behavior on the sphinx rendered scikit-learn.org. See: https://github.com/scikit-learn/scikit-learn/issues/21755 */display: inline-block !important;position: relative;}#sk-container-id-3 div.sk-text-repr-fallback {display: none;}</style><div id=\"sk-container-id-3\" class=\"sk-top-container\"><div class=\"sk-text-repr-fallback\"><pre>XGBClassifier(base_score=None, booster=None, callbacks=None,\n",
       "              colsample_bylevel=None, colsample_bynode=None,\n",
       "              colsample_bytree=None, early_stopping_rounds=None,\n",
       "              enable_categorical=False, eval_metric=None, feature_types=None,\n",
       "              gamma=None, gpu_id=None, grow_policy=None, importance_type=None,\n",
       "              interaction_constraints=None, learning_rate=None, max_bin=None,\n",
       "              max_cat_threshold=None, max_cat_to_onehot=None,\n",
       "              max_delta_step=None, max_depth=None, max_leaves=None,\n",
       "              min_child_weight=None, missing=nan, monotone_constraints=None,\n",
       "              n_estimators=100, n_jobs=None, num_parallel_tree=None,\n",
       "              predictor=None, random_state=None, ...)</pre><b>In a Jupyter environment, please rerun this cell to show the HTML representation or trust the notebook. <br />On GitHub, the HTML representation is unable to render, please try loading this page with nbviewer.org.</b></div><div class=\"sk-container\" hidden><div class=\"sk-item\"><div class=\"sk-estimator sk-toggleable\"><input class=\"sk-toggleable__control sk-hidden--visually\" id=\"sk-estimator-id-3\" type=\"checkbox\" checked><label for=\"sk-estimator-id-3\" class=\"sk-toggleable__label sk-toggleable__label-arrow\">XGBClassifier</label><div class=\"sk-toggleable__content\"><pre>XGBClassifier(base_score=None, booster=None, callbacks=None,\n",
       "              colsample_bylevel=None, colsample_bynode=None,\n",
       "              colsample_bytree=None, early_stopping_rounds=None,\n",
       "              enable_categorical=False, eval_metric=None, feature_types=None,\n",
       "              gamma=None, gpu_id=None, grow_policy=None, importance_type=None,\n",
       "              interaction_constraints=None, learning_rate=None, max_bin=None,\n",
       "              max_cat_threshold=None, max_cat_to_onehot=None,\n",
       "              max_delta_step=None, max_depth=None, max_leaves=None,\n",
       "              min_child_weight=None, missing=nan, monotone_constraints=None,\n",
       "              n_estimators=100, n_jobs=None, num_parallel_tree=None,\n",
       "              predictor=None, random_state=None, ...)</pre></div></div></div></div></div>"
      ],
      "text/plain": [
       "XGBClassifier(base_score=None, booster=None, callbacks=None,\n",
       "              colsample_bylevel=None, colsample_bynode=None,\n",
       "              colsample_bytree=None, early_stopping_rounds=None,\n",
       "              enable_categorical=False, eval_metric=None, feature_types=None,\n",
       "              gamma=None, gpu_id=None, grow_policy=None, importance_type=None,\n",
       "              interaction_constraints=None, learning_rate=None, max_bin=None,\n",
       "              max_cat_threshold=None, max_cat_to_onehot=None,\n",
       "              max_delta_step=None, max_depth=None, max_leaves=None,\n",
       "              min_child_weight=None, missing=nan, monotone_constraints=None,\n",
       "              n_estimators=100, n_jobs=None, num_parallel_tree=None,\n",
       "              predictor=None, random_state=None, ...)"
      ]
     },
     "execution_count": 81,
     "metadata": {},
     "output_type": "execute_result"
    }
   ],
   "source": [
    "classifierXG = xgboost.XGBClassifier()\n",
    "classifierXG.fit(X_train, y_train)"
   ]
  },
  {
   "cell_type": "code",
   "execution_count": 83,
   "id": "664eea09",
   "metadata": {},
   "outputs": [],
   "source": [
    "y_predXG = classifier.predict(X_test)"
   ]
  },
  {
   "cell_type": "code",
   "execution_count": 84,
   "id": "47e4ba45",
   "metadata": {},
   "outputs": [
    {
     "name": "stdout",
     "output_type": "stream",
     "text": [
      "0.9163333333333333\n"
     ]
    }
   ],
   "source": [
    "from sklearn.metrics import accuracy_score\n",
    "accuracyXG = accuracy_score(y_test, y_pred)\n",
    "print(accuracyXG)"
   ]
  },
  {
   "cell_type": "code",
   "execution_count": 85,
   "id": "14d989ba",
   "metadata": {},
   "outputs": [
    {
     "name": "stdout",
     "output_type": "stream",
     "text": [
      "accuracy: 0.9116666666666666\n",
      "precision: 0.9242945629731589\n",
      "recall: 0.8965287049399199\n",
      "f1-score: 0.910199932226364\n"
     ]
    }
   ],
   "source": [
    "print('accuracy:',metrics.accuracy_score(y_test,y_predXG))\n",
    "print('precision:',metrics.precision_score(y_test,y_predXG))\n",
    "print('recall:',metrics.recall_score(y_test,y_predXG))\n",
    "print('f1-score:',metrics.f1_score(y_test,y_predXG))"
   ]
  },
  {
   "cell_type": "markdown",
   "id": "4826267a",
   "metadata": {},
   "source": [
    "# KNN"
   ]
  },
  {
   "cell_type": "code",
   "execution_count": 88,
   "id": "b887a025",
   "metadata": {},
   "outputs": [
    {
     "data": {
      "text/html": [
       "<style>#sk-container-id-5 {color: black;background-color: white;}#sk-container-id-5 pre{padding: 0;}#sk-container-id-5 div.sk-toggleable {background-color: white;}#sk-container-id-5 label.sk-toggleable__label {cursor: pointer;display: block;width: 100%;margin-bottom: 0;padding: 0.3em;box-sizing: border-box;text-align: center;}#sk-container-id-5 label.sk-toggleable__label-arrow:before {content: \"▸\";float: left;margin-right: 0.25em;color: #696969;}#sk-container-id-5 label.sk-toggleable__label-arrow:hover:before {color: black;}#sk-container-id-5 div.sk-estimator:hover label.sk-toggleable__label-arrow:before {color: black;}#sk-container-id-5 div.sk-toggleable__content {max-height: 0;max-width: 0;overflow: hidden;text-align: left;background-color: #f0f8ff;}#sk-container-id-5 div.sk-toggleable__content pre {margin: 0.2em;color: black;border-radius: 0.25em;background-color: #f0f8ff;}#sk-container-id-5 input.sk-toggleable__control:checked~div.sk-toggleable__content {max-height: 200px;max-width: 100%;overflow: auto;}#sk-container-id-5 input.sk-toggleable__control:checked~label.sk-toggleable__label-arrow:before {content: \"▾\";}#sk-container-id-5 div.sk-estimator input.sk-toggleable__control:checked~label.sk-toggleable__label {background-color: #d4ebff;}#sk-container-id-5 div.sk-label input.sk-toggleable__control:checked~label.sk-toggleable__label {background-color: #d4ebff;}#sk-container-id-5 input.sk-hidden--visually {border: 0;clip: rect(1px 1px 1px 1px);clip: rect(1px, 1px, 1px, 1px);height: 1px;margin: -1px;overflow: hidden;padding: 0;position: absolute;width: 1px;}#sk-container-id-5 div.sk-estimator {font-family: monospace;background-color: #f0f8ff;border: 1px dotted black;border-radius: 0.25em;box-sizing: border-box;margin-bottom: 0.5em;}#sk-container-id-5 div.sk-estimator:hover {background-color: #d4ebff;}#sk-container-id-5 div.sk-parallel-item::after {content: \"\";width: 100%;border-bottom: 1px solid gray;flex-grow: 1;}#sk-container-id-5 div.sk-label:hover label.sk-toggleable__label {background-color: #d4ebff;}#sk-container-id-5 div.sk-serial::before {content: \"\";position: absolute;border-left: 1px solid gray;box-sizing: border-box;top: 0;bottom: 0;left: 50%;z-index: 0;}#sk-container-id-5 div.sk-serial {display: flex;flex-direction: column;align-items: center;background-color: white;padding-right: 0.2em;padding-left: 0.2em;position: relative;}#sk-container-id-5 div.sk-item {position: relative;z-index: 1;}#sk-container-id-5 div.sk-parallel {display: flex;align-items: stretch;justify-content: center;background-color: white;position: relative;}#sk-container-id-5 div.sk-item::before, #sk-container-id-5 div.sk-parallel-item::before {content: \"\";position: absolute;border-left: 1px solid gray;box-sizing: border-box;top: 0;bottom: 0;left: 50%;z-index: -1;}#sk-container-id-5 div.sk-parallel-item {display: flex;flex-direction: column;z-index: 1;position: relative;background-color: white;}#sk-container-id-5 div.sk-parallel-item:first-child::after {align-self: flex-end;width: 50%;}#sk-container-id-5 div.sk-parallel-item:last-child::after {align-self: flex-start;width: 50%;}#sk-container-id-5 div.sk-parallel-item:only-child::after {width: 0;}#sk-container-id-5 div.sk-dashed-wrapped {border: 1px dashed gray;margin: 0 0.4em 0.5em 0.4em;box-sizing: border-box;padding-bottom: 0.4em;background-color: white;}#sk-container-id-5 div.sk-label label {font-family: monospace;font-weight: bold;display: inline-block;line-height: 1.2em;}#sk-container-id-5 div.sk-label-container {text-align: center;}#sk-container-id-5 div.sk-container {/* jupyter's `normalize.less` sets `[hidden] { display: none; }` but bootstrap.min.css set `[hidden] { display: none !important; }` so we also need the `!important` here to be able to override the default hidden behavior on the sphinx rendered scikit-learn.org. See: https://github.com/scikit-learn/scikit-learn/issues/21755 */display: inline-block !important;position: relative;}#sk-container-id-5 div.sk-text-repr-fallback {display: none;}</style><div id=\"sk-container-id-5\" class=\"sk-top-container\"><div class=\"sk-text-repr-fallback\"><pre>KNeighborsClassifier(n_neighbors=3)</pre><b>In a Jupyter environment, please rerun this cell to show the HTML representation or trust the notebook. <br />On GitHub, the HTML representation is unable to render, please try loading this page with nbviewer.org.</b></div><div class=\"sk-container\" hidden><div class=\"sk-item\"><div class=\"sk-estimator sk-toggleable\"><input class=\"sk-toggleable__control sk-hidden--visually\" id=\"sk-estimator-id-5\" type=\"checkbox\" checked><label for=\"sk-estimator-id-5\" class=\"sk-toggleable__label sk-toggleable__label-arrow\">KNeighborsClassifier</label><div class=\"sk-toggleable__content\"><pre>KNeighborsClassifier(n_neighbors=3)</pre></div></div></div></div></div>"
      ],
      "text/plain": [
       "KNeighborsClassifier(n_neighbors=3)"
      ]
     },
     "execution_count": 88,
     "metadata": {},
     "output_type": "execute_result"
    }
   ],
   "source": [
    "from sklearn.neighbors import KNeighborsClassifier\n",
    "# Create KNN classifier\n",
    "knn = KNeighborsClassifier(n_neighbors = 3)\n",
    "# Fit the classifier to the data\n",
    "knn.fit(X_train,y_train)"
   ]
  },
  {
   "cell_type": "code",
   "execution_count": 89,
   "id": "26bceeef",
   "metadata": {},
   "outputs": [],
   "source": [
    "y_predK=knn.predict(X_test)"
   ]
  },
  {
   "cell_type": "code",
   "execution_count": 90,
   "id": "87355936",
   "metadata": {},
   "outputs": [
    {
     "data": {
      "text/plain": [
       "0.797"
      ]
     },
     "execution_count": 90,
     "metadata": {},
     "output_type": "execute_result"
    }
   ],
   "source": [
    "#check accuracy of our model on the test data\n",
    "knn.score(X_test, y_test)"
   ]
  },
  {
   "cell_type": "code",
   "execution_count": 91,
   "id": "a25d517d",
   "metadata": {},
   "outputs": [
    {
     "name": "stdout",
     "output_type": "stream",
     "text": [
      "accuracy: 0.797\n",
      "precision: 0.8815450643776824\n",
      "recall: 0.6855807743658211\n",
      "f1-score: 0.7713105520090124\n"
     ]
    }
   ],
   "source": [
    "print('accuracy:',metrics.accuracy_score(y_test,y_predK))\n",
    "print('precision:',metrics.precision_score(y_test,y_predK))\n",
    "print('recall:',metrics.recall_score(y_test,y_predK))\n",
    "print('f1-score:',metrics.f1_score(y_test,y_predK))"
   ]
  },
  {
   "cell_type": "code",
   "execution_count": null,
   "id": "511a488e",
   "metadata": {},
   "outputs": [],
   "source": []
  }
 ],
 "metadata": {
  "accelerator": "TPU",
  "colab": {
   "collapsed_sections": [],
   "name": "Suicidal Prediction.ipynb",
   "private_outputs": true,
   "provenance": []
  },
  "kernelspec": {
   "display_name": "Python 3 (ipykernel)",
   "language": "python",
   "name": "python3"
  },
  "language_info": {
   "codemirror_mode": {
    "name": "ipython",
    "version": 3
   },
   "file_extension": ".py",
   "mimetype": "text/x-python",
   "name": "python",
   "nbconvert_exporter": "python",
   "pygments_lexer": "ipython3",
   "version": "3.11.2"
  }
 },
 "nbformat": 4,
 "nbformat_minor": 5
}
